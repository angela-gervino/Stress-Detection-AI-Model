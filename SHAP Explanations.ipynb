{
 "cells": [
  {
   "cell_type": "code",
   "execution_count": null,
   "metadata": {},
   "outputs": [],
   "source": [
    "%pip install opencv-python"
   ]
  },
  {
   "cell_type": "code",
   "execution_count": 69,
   "metadata": {},
   "outputs": [],
   "source": [
    "import numpy as np\n",
    "import tensorflow as tf\n",
    "import shap\n",
    "import matplotlib.pyplot as plt"
   ]
  },
  {
   "cell_type": "code",
   "execution_count": 67,
   "metadata": {},
   "outputs": [],
   "source": [
    "model = tf.keras.models.load_model('path/to/model')"
   ]
  },
  {
   "cell_type": "code",
   "execution_count": null,
   "metadata": {},
   "outputs": [],
   "source": [
    "X = np.load('path/to/x_test.npy')\n",
    "y = np.load('path/to/y_test.npy')"
   ]
  },
  {
   "cell_type": "code",
   "execution_count": 74,
   "metadata": {},
   "outputs": [],
   "source": [
    "# Normalize data the same way as was done to the training data\n",
    "X_scaled = X / 255.0"
   ]
  },
  {
   "cell_type": "code",
   "execution_count": 76,
   "metadata": {},
   "outputs": [],
   "source": [
    "# This is based off of my specific test data\n",
    "# I selected 15 images from each emotion class for the 'background' dataset and 1 image from each emotion class for the 'test_images' dataset\n",
    "background = np.vstack([X_scaled[0:15], X_scaled[609:624], X_scaled[1454:1469], X_scaled[1953:1968], X_scaled[3548:3563], X_scaled[4118:4133], X_scaled[2682:2697]])\n",
    "test_images = np.array([X_scaled[16], X_scaled[625], X_scaled[1470], X_scaled[1969], X_scaled[3564], X_scaled[4134], X_scaled[2698]])"
   ]
  },
  {
   "cell_type": "code",
   "execution_count": null,
   "metadata": {},
   "outputs": [],
   "source": [
    "# Add the appropriate line below if you are getting a LookupError for AddV2 or FusedBatchNormV3\n",
    "# shap.explainers._deep.deep_tf.op_handlers[\"AddV2\"] = shap.explainers._deep.deep_tf.passthrough\n",
    "# shap.explainers._deep.deep_tf.op_handlers[\"FusedBatchNormV3\"] = shap.explainers._deep.deep_tf.passthrough\n",
    "\n",
    "e = shap.DeepExplainer(model, background)\n",
    "shap_values = e.shap_values(test_images)"
   ]
  },
  {
   "cell_type": "code",
   "execution_count": null,
   "metadata": {},
   "outputs": [],
   "source": [
    "# If desired, view the model's predictions for the test images\n",
    "predictions = model.predict(test_images) # Probabilities for each prediction are stored here\n",
    "preds = np.argmax(predictions, axis=1) # Predictions are stored in here"
   ]
  },
  {
   "cell_type": "code",
   "execution_count": null,
   "metadata": {},
   "outputs": [],
   "source": [
    "# Get the SHAP output\n",
    "r = shap.image_plot(shap_values, test_images, show=False)\n",
    "# << any modifications you want to make to the image output before displaying it can go here >>\n",
    "plt.show()"
   ]
  }
 ],
 "metadata": {
  "kernelspec": {
   "display_name": "project",
   "language": "python",
   "name": "python3"
  },
  "language_info": {
   "codemirror_mode": {
    "name": "ipython",
    "version": 3
   },
   "file_extension": ".py",
   "mimetype": "text/x-python",
   "name": "python",
   "nbconvert_exporter": "python",
   "pygments_lexer": "ipython3",
   "version": "3.10.13"
  }
 },
 "nbformat": 4,
 "nbformat_minor": 2
}
