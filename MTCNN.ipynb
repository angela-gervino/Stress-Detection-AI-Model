{
 "cells": [
  {
   "cell_type": "code",
   "execution_count": null,
   "metadata": {},
   "outputs": [],
   "source": [
    "from mtcnn import MTCNN\n",
    "from PIL import Image\n",
    "import pandas as pd\n",
    "import numpy as np\n",
    "import matplotlib.pyplot as plt\n",
    "import glob"
   ]
  },
  {
   "cell_type": "code",
   "execution_count": 2,
   "metadata": {},
   "outputs": [],
   "source": [
    "def crop_image(image, box):\n",
    "    # Input: image: np array of pixels to crop\n",
    "    #        box: a dictionary returned by detect_faces() containing coordinates/width/height of the box outlining the detected face\n",
    "    # Output: an np array of pixels representing the cropped image\n",
    "    x, y, width, height = box[0], box[1], box[2], box[3] # x,y,w,h of the box containing a detected face\n",
    "    return image[y:y+height, x:x+width]"
   ]
  },
  {
   "cell_type": "code",
   "execution_count": 31,
   "metadata": {},
   "outputs": [],
   "source": [
    "def resize_grayscale_image(image, size=(224,224)):\n",
    "    return np.array(Image.fromarray(np.squeeze(image, axis=-1)).resize(size))"
   ]
  },
  {
   "cell_type": "code",
   "execution_count": 4,
   "metadata": {},
   "outputs": [],
   "source": [
    "def resize_rgb_image(image, size=(224, 224)):\n",
    "    return np.array((Image.fromarray(image)).resize(size))"
   ]
  },
  {
   "cell_type": "markdown",
   "metadata": {},
   "source": [
    "(Option 1): Use images from a directory"
   ]
  },
  {
   "cell_type": "code",
   "execution_count": null,
   "metadata": {},
   "outputs": [],
   "source": [
    "# Option 1: Use folders of grayscale images\n",
    "pixels = []\n",
    "\n",
    "mapping = {\"Angry\":0, \"Disgust\":1, \"Fear\":2, \"Happy\":3, \"Sad\":4, \"Surprise\":5, \"Neutral\":6}\n",
    "emotions = [\"Angry\", \"Disgust\", \"Fear\", \"Happy\", \"Sad\", \"Neutral\"]\n",
    "\n",
    "for emotion in emotions:\n",
    "    for file_path in glob.glob(f\"Test v2\\\\{emotion}\\\\\" + \"*.jpg\"):\n",
    "        pixels.append([np.asarray(Image.open(file_path)), emotion])\n",
    "\n",
    "detector = MTCNN()\n",
    "cropped_images = []\n",
    "\n",
    "for img in pixels:\n",
    "    emotion = img[1]\n",
    "    original_pxs = np.expand_dims(img[0], -1)\n",
    "    pxs = np.tile(original_pxs, [1,1,3]) # MTCNN library only works with imgs with 3 channels per pixel. This pads the img to make the img have 3 channels\n",
    "    output = detector.detect_faces(pxs)\n",
    "    if (len(output) == 1):\n",
    "        resized_image = resize_grayscale_image(crop_image(original_pxs, output[0][\"box\"]))\n",
    "        cropped_images.append([emotion, resized_image])"
   ]
  },
  {
   "cell_type": "code",
   "execution_count": null,
   "metadata": {},
   "outputs": [],
   "source": [
    "# Option 2: Use folders of RGB images\n",
    "pixels = []\n",
    "\n",
    "mapping = {\"Angry\":0, \"Disgust\":1, \"Fear\":2, \"Happy\":3, \"Sad\":4, \"Surprise\":5, \"Neutral\":6}\n",
    "emotions = [\"Angry\", \"Disgust\", \"Fear\", \"Happy\", \"Sad\", \"Neutral\"]\n",
    "\n",
    "for emotion in emotions:\n",
    "    for file_path in glob.glob(f\"Test Set\\\\{emotion}\\\\\" + \"*.jpg\"):\n",
    "        pixels.append([np.asarray(Image.open(file_path)), emotion])\n",
    "\n",
    "detector = MTCNN()\n",
    "cropped_images = []\n",
    "\n",
    "for img in pixels:\n",
    "    emotion = img[1]\n",
    "    pxs = img[0]\n",
    "    output = detector.detect_faces(pxs)\n",
    "    if (len(output) == 1):\n",
    "        resized_image = resize_rgb_image(crop_image(pxs, output[0][\"box\"]))\n",
    "        cropped_images.append([emotion, resized_image])\n"
   ]
  },
  {
   "cell_type": "markdown",
   "metadata": {},
   "source": [
    "(Option 2): Use images stored in a CSV file"
   ]
  },
  {
   "cell_type": "code",
   "execution_count": 2,
   "metadata": {},
   "outputs": [],
   "source": [
    "df = pd.read_csv(\"Face Images.csv\")"
   ]
  },
  {
   "cell_type": "code",
   "execution_count": null,
   "metadata": {},
   "outputs": [],
   "source": [
    "# For each image in the df, use the mtcnn to detect the face, then crop the image to just the face portion, and then resize to a constant size of 224x224 px\n",
    "cropped_images = []\n",
    "count = 0\n",
    "detector = MTCNN()\n",
    "\n",
    "for index, row in df.iterrows():\n",
    "    original_image = np.fromstring(row[\"pixels\"], dtype=int, sep=\" \").reshape(row[\"height\"], row[\"width\"], 1).astype(\"float32\")\n",
    "    img = np.tile(original_image, [1,1,3]) # this MTCNN library only works with colour images (imgs with 3 channels), but grayscale images have only 1 channel. This pads the img to make the image have 3 channels\n",
    "    output = detector.detect_faces(img)\n",
    "    if len(output) == 1: # 1 face detected\n",
    "        resized_image = resize_grayscale_image(crop_image(original_image, output[0][\"box\"]))\n",
    "        cropped_images.append([row[\"emotion\"], resized_image])"
   ]
  },
  {
   "cell_type": "markdown",
   "metadata": {},
   "source": [
    "Save Images"
   ]
  },
  {
   "cell_type": "code",
   "execution_count": 44,
   "metadata": {},
   "outputs": [],
   "source": [
    "# Save the images to the directory corresponding to their labels\n",
    "expressions = {0:\"Angry\", 1:\"Disgust\", 2:\"Fear\", 3:\"Happy\", 4:\"Sad\", 5:\"Surprise\", 6:\"Neutral\"}\n",
    "\n",
    "count = 0 # arbitrary number used to ensure images are saved with a unique name\n",
    "\n",
    "for image in cropped_images:\n",
    "    label = image[0]\n",
    "    im = image[1]\n",
    "    # convert pixels to Image class\n",
    "    # add .convert('L') to save RGB images as grayscale\n",
    "    img = Image.fromarray(im)#.convert('L')\n",
    "\n",
    "    img.save(f\"FolderName/{label}/img_{count}.jpg\", \"JPEG\")\n",
    "    count += 1"
   ]
  }
 ],
 "metadata": {
  "kernelspec": {
   "display_name": "project",
   "language": "python",
   "name": "python3"
  },
  "language_info": {
   "codemirror_mode": {
    "name": "ipython",
    "version": 3
   },
   "file_extension": ".py",
   "mimetype": "text/x-python",
   "name": "python",
   "nbconvert_exporter": "python",
   "pygments_lexer": "ipython3",
   "version": "3.10.13"
  }
 },
 "nbformat": 4,
 "nbformat_minor": 2
}
