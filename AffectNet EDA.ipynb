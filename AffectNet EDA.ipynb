{
 "cells": [
  {
   "cell_type": "code",
   "execution_count": 1,
   "metadata": {},
   "outputs": [],
   "source": [
    "import pandas as pd\n",
    "import matplotlib.pyplot as plt\n",
    "import numpy as np\n",
    "import glob\n",
    "from PIL import Image"
   ]
  },
  {
   "cell_type": "code",
   "execution_count": 2,
   "metadata": {},
   "outputs": [],
   "source": [
    "files = glob.glob(\"AffectNet\\\\affectnet\\\\*.jpg\", recursive=True) # get a list of paths to all the jpg image files from the dataset"
   ]
  },
  {
   "cell_type": "code",
   "execution_count": null,
   "metadata": {},
   "outputs": [],
   "source": [
    "# convert AffectNet class # to the integer mapping to the emotions being used across all datasets\n",
    "class_to_int = {\"class001\":6, \"class002\":3, \"class003\":4, \"class004\":5, \"class005\":2, \"class006\":1, \"class007\":0}\n",
    "\n",
    "data = []\n",
    "for file_path in files:\n",
    "    file_name_split = file_path.split(\"\\\\\")[2].split(\"_\")\n",
    "    im = Image.open(file_path).convert('L').getdata()\n",
    "    data.append([\n",
    "        class_to_int[file_name_split[11]],\n",
    "        \" \".join(map(str, list(im))),\n",
    "        im.size[0],\n",
    "        im.size[1]\n",
    "    ])\n",
    "\n",
    "df = pd.DataFrame(data, columns=[\"emotion\",\"pixels\", \"width\", \"height\"])"
   ]
  },
  {
   "cell_type": "code",
   "execution_count": null,
   "metadata": {},
   "outputs": [],
   "source": [
    "df.drop_duplicates(inplace=True)"
   ]
  },
  {
   "cell_type": "code",
   "execution_count": 47,
   "metadata": {},
   "outputs": [],
   "source": [
    "df.dropna(inplace=True)"
   ]
  },
  {
   "cell_type": "code",
   "execution_count": null,
   "metadata": {},
   "outputs": [],
   "source": [
    "int_to_emotion = {0:\"Angry\", 1:\"Disgust\", 2:\"Fear\", 3:\"Happy\", 4:\"Sad\", 5:\"Surprise\", 6:\"Neutral\"}\n",
    "\n",
    "emotions = df[\"emotion\"].unique()\n",
    "emotion_freq = dict()\n",
    "\n",
    "for emotion in emotions:\n",
    "    emotion_freq[int_to_emotion[emotion]] = df[\"emotion\"].value_counts()[emotion]\n",
    "\n",
    "fig, ax = plt.subplots()\n",
    "ax.bar(emotion_freq.keys(), emotion_freq.values())\n",
    "ax.set_title(\"Frequency of emotions in AffectNet\")\n",
    "\n",
    "plt.show()"
   ]
  },
  {
   "cell_type": "markdown",
   "metadata": {},
   "source": [
    "Emotion Categories:\n",
    "- Neutral: 4731\n",
    "- Happy: 4787\n",
    "- Sad: 4588\n",
    "- Surprise: 4565\n",
    "- Fear: 4306\n",
    "- Disgust: 3516\n",
    "- Angry: 4522\n",
    "\n",
    "Total Images: 31015"
   ]
  },
  {
   "cell_type": "code",
   "execution_count": 6,
   "metadata": {},
   "outputs": [],
   "source": [
    "labels = df.loc[:, 'emotion'] \n",
    "pixel_list = df.loc[:, 'pixels']\n",
    "\n",
    "images = np.array([np.fromstring(pixels, dtype=int, sep=\" \") for pixels in pixel_list])"
   ]
  },
  {
   "cell_type": "code",
   "execution_count": null,
   "metadata": {},
   "outputs": [],
   "source": [
    "# Display an image\n",
    "img_num = 11\n",
    "\n",
    "# Reshape\n",
    "image = images[img_num].reshape(128, 128, 1).astype('float32')\n",
    "\n",
    "# Display\n",
    "plt.imshow(image, cmap=\"gist_gray\")\n",
    "int_to_emotion[df.iloc[img_num][\"emotion\"]]"
   ]
  },
  {
   "cell_type": "code",
   "execution_count": 49,
   "metadata": {},
   "outputs": [],
   "source": [
    "df.to_csv(\"AffectNet.csv\", index=False)"
   ]
  }
 ],
 "metadata": {
  "kernelspec": {
   "display_name": "project",
   "language": "python",
   "name": "python3"
  },
  "language_info": {
   "codemirror_mode": {
    "name": "ipython",
    "version": 3
   },
   "file_extension": ".py",
   "mimetype": "text/x-python",
   "name": "python",
   "nbconvert_exporter": "python",
   "pygments_lexer": "ipython3",
   "version": "3.10.13"
  }
 },
 "nbformat": 4,
 "nbformat_minor": 2
}
