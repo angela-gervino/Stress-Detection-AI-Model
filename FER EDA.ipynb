{
 "cells": [
  {
   "cell_type": "code",
   "execution_count": 1,
   "metadata": {},
   "outputs": [],
   "source": [
    "import pandas as pd\n",
    "import matplotlib.pyplot as plt\n",
    "import numpy as np"
   ]
  },
  {
   "cell_type": "code",
   "execution_count": 2,
   "metadata": {},
   "outputs": [],
   "source": [
    "ds = pd.read_csv('fer2013/fer2013.csv')"
   ]
  },
  {
   "cell_type": "code",
   "execution_count": 3,
   "metadata": {},
   "outputs": [],
   "source": [
    "# Drop the usage column\n",
    "ds.drop(\"Usage\", axis=1, inplace=True)"
   ]
  },
  {
   "cell_type": "code",
   "execution_count": null,
   "metadata": {},
   "outputs": [],
   "source": [
    "ds[ds.duplicated()]"
   ]
  },
  {
   "cell_type": "code",
   "execution_count": 5,
   "metadata": {},
   "outputs": [],
   "source": [
    "# Drop duplicate rows (keep the only the first occurrence)\n",
    "ds.drop_duplicates(inplace=True)"
   ]
  },
  {
   "cell_type": "code",
   "execution_count": null,
   "metadata": {},
   "outputs": [],
   "source": [
    "ds[ds.isna().any(axis=1)]"
   ]
  },
  {
   "cell_type": "code",
   "execution_count": 7,
   "metadata": {},
   "outputs": [],
   "source": [
    "expressions = {0:\"Angry\", 1:\"Disgust\", 2:\"Fear\", 3:\"Happy\", 4:\"Sad\", 5:\"Surprise\", 6:\"Neutral\"}"
   ]
  },
  {
   "cell_type": "code",
   "execution_count": null,
   "metadata": {},
   "outputs": [],
   "source": [
    "# Get frequency of different emotions in FER2013\n",
    "emotion_freq = dict()\n",
    "\n",
    "for i in range(7):\n",
    "  emotion_freq[expressions[i]] = ds['emotion'].value_counts()[i]\n",
    "\n",
    "fig, ax = plt.subplots()\n",
    "ax.bar(emotion_freq.keys(), emotion_freq.values())\n",
    "ax.set_title(\"Frequency of emotions in FER2013 dataset\")\n",
    "\n",
    "plt.show()"
   ]
  },
  {
   "cell_type": "code",
   "execution_count": 9,
   "metadata": {},
   "outputs": [],
   "source": [
    "# Number of images that are classified as more than one emotion\n",
    "duplicates = ds[ds[\"pixels\"].duplicated(keep=False)] # All rows with duplicate pixels are considered duplicates\n",
    "duplicate_pixels = duplicates.pixels.unique() # 1 row for each image that has multiple classifications"
   ]
  },
  {
   "cell_type": "code",
   "execution_count": null,
   "metadata": {},
   "outputs": [],
   "source": [
    "# Display an image which is classified as being more than 1 emotion\n",
    "# Print both emotions the image was classified as\n",
    "\n",
    "img = 56\n",
    "\n",
    "pxs = duplicate_pixels[img] \n",
    "rows = ds[ds.pixels == pxs]\n",
    "emotions = rows.emotion\n",
    "for emotion in emotions:\n",
    "    print(expressions[emotion], end=\" \")\n",
    "\n",
    "im = np.fromstring(pxs, dtype=int, sep=\" \")\n",
    "plt.imshow(im.reshape(48,48,1).astype('float32'))"
   ]
  },
  {
   "cell_type": "markdown",
   "metadata": {},
   "source": [
    "Emotion Categories:\n",
    "- Angry: 4740 images\n",
    "- Disgust: 461 images\n",
    "- Fear: 4835 images\n",
    "- Happy: 8800 images\n",
    "- Sad: 5934 images\n",
    "- Surprise: 3267 images\n",
    "- Neutral: 6057 images\n",
    "\n",
    "Total Images: 34094\n",
    "\n",
    "1793 images were dropped from the initial 35887 images during preprocessing/cleaning\n",
    "\n",
    "57 images were assigned more than one emotion"
   ]
  },
  {
   "cell_type": "markdown",
   "metadata": {},
   "source": [
    "Display an image"
   ]
  },
  {
   "cell_type": "code",
   "execution_count": 11,
   "metadata": {},
   "outputs": [],
   "source": [
    "labels = ds.iloc[:,[0]].values # Array containing the 'emotion' column of ints (0-6)\n",
    "pixel_list = ds['pixels']\n",
    "\n",
    "# Convert each string of pixel values into an np array with shape (48^2,) and store these arrays in an array\n",
    "images = np.array([np.fromstring(pixels, dtype=int, sep=\" \") for pixels in pixel_list])"
   ]
  },
  {
   "cell_type": "code",
   "execution_count": null,
   "metadata": {},
   "outputs": [],
   "source": [
    "# Reshape the image to display\n",
    "img_num = 15000\n",
    "image = images[img_num].reshape(48,48,1).astype('float32')\n",
    "\n",
    "# Display the image\n",
    "plt.imshow(image, cmap=\"gist_gray\")"
   ]
  },
  {
   "cell_type": "markdown",
   "metadata": {},
   "source": [
    "Save the cleaned data"
   ]
  },
  {
   "cell_type": "code",
   "execution_count": 13,
   "metadata": {},
   "outputs": [],
   "source": [
    "# Save as a CSV\n",
    "ds.to_csv(\"testing123.csv\", index=False)"
   ]
  },
  {
   "cell_type": "code",
   "execution_count": 14,
   "metadata": {},
   "outputs": [],
   "source": [
    "# Save as npy files\n",
    "\n",
    "width, height = 48, 48\n",
    "\n",
    "datapoints = ds['pixels'].tolist()\n",
    "\n",
    "#getting features for training\n",
    "X = []\n",
    "for xseq in datapoints:\n",
    "    xx = [int(xp) for xp in xseq.split(' ')]\n",
    "    xx = np.asarray(xx).reshape(width, height)\n",
    "    X.append(xx.astype('float32'))\n",
    "\n",
    "X = np.asarray(X)\n",
    "X = np.expand_dims(X, -1)\n",
    "\n",
    "#getting labels for training\n",
    "y = pd.get_dummies(ds['emotion']).values\n",
    "\n",
    "#storing them using numpy\n",
    "np.save('fdataX', X)\n",
    "np.save('flabels', y)"
   ]
  }
 ],
 "metadata": {
  "kernelspec": {
   "display_name": "env1",
   "language": "python",
   "name": "python3"
  },
  "language_info": {
   "codemirror_mode": {
    "name": "ipython",
    "version": 3
   },
   "file_extension": ".py",
   "mimetype": "text/x-python",
   "name": "python",
   "nbconvert_exporter": "python",
   "pygments_lexer": "ipython3",
   "version": "3.10.13"
  }
 },
 "nbformat": 4,
 "nbformat_minor": 2
}
