{
 "cells": [
  {
   "cell_type": "markdown",
   "metadata": {},
   "source": [
    "Dataset: https://archive.ics.uci.edu/dataset/124/cmu+face+images"
   ]
  },
  {
   "cell_type": "code",
   "execution_count": 1,
   "metadata": {},
   "outputs": [],
   "source": [
    "import pandas as pd\n",
    "import matplotlib.pyplot as plt\n",
    "import numpy as np\n",
    "import glob\n",
    "from PIL import Image"
   ]
  },
  {
   "cell_type": "code",
   "execution_count": 2,
   "metadata": {},
   "outputs": [],
   "source": [
    "files = glob.glob(\"faces/**/*.pgm\", recursive=True) # get a list of paths to all the pgm image files from the dataset"
   ]
  },
  {
   "cell_type": "code",
   "execution_count": 3,
   "metadata": {},
   "outputs": [],
   "source": [
    "data = []\n",
    "for file_path in files:\n",
    "    file_name_split = file_path.split(\"\\\\\")[2].split(\"_\")\n",
    "    if len(file_name_split) == 4: # only use the full resolution version of each image\n",
    "        data.append([\n",
    "            file_name_split[0],\n",
    "            file_name_split[1],\n",
    "            file_name_split[2], \n",
    "            file_name_split[3][:-4], # [:-4] removes the .pgm at the end of the string\n",
    "            \" \".join(map(str, list(Image.open(file_path).convert('L').getdata())))\n",
    "        ])\n",
    "\n",
    "df = pd.DataFrame(data, columns=[\"person\", \"direction\", \"emotion\", \"eyes\", \"pixels\"])"
   ]
  },
  {
   "cell_type": "code",
   "execution_count": 6,
   "metadata": {},
   "outputs": [],
   "source": [
    "# Handle duplicates (if any)\n",
    "df.drop_duplicates(inplace=True)"
   ]
  },
  {
   "cell_type": "code",
   "execution_count": null,
   "metadata": {},
   "outputs": [],
   "source": [
    "# Check if there are any images labelled with more than 1 emotion\n",
    "df[df.duplicated(subset=[\"pixels\"])]"
   ]
  },
  {
   "cell_type": "code",
   "execution_count": null,
   "metadata": {},
   "outputs": [],
   "source": [
    "# Check if there are any nulls/NaN values\n",
    "df[df.isna().any(axis=1)]"
   ]
  },
  {
   "cell_type": "code",
   "execution_count": null,
   "metadata": {},
   "outputs": [],
   "source": [
    "# get overall frequency of different emotions in CMU Face Images\n",
    "emotions = df[\"emotion\"].unique()\n",
    "emotion_freq = dict()\n",
    "\n",
    "for emotion in emotions:\n",
    "    emotion_freq[emotion] = df[\"emotion\"].value_counts()[emotion]\n",
    "\n",
    "fig, ax = plt.subplots()\n",
    "ax.bar(emotion_freq.keys(), emotion_freq.values())\n",
    "ax.set_title(\"Frequency of emotions in CMU Face Images\")\n",
    "\n",
    "plt.show()"
   ]
  },
  {
   "cell_type": "markdown",
   "metadata": {},
   "source": [
    "Emotion categories: \n",
    "- Angry: 155 images\n",
    "- Happy: 155 images\n",
    "- Neutral: 158 images\n",
    "- Sad: 156 images\n",
    "\n",
    "Total images: 624\n",
    "\n",
    "16 images were excluded from the original 640 images due to problems with the camera setup (labelled with .bad suffix)\n",
    "\n",
    "No duplicates were present in the dataset, and no images were assigned more than 1 emotion"
   ]
  },
  {
   "cell_type": "code",
   "execution_count": 10,
   "metadata": {},
   "outputs": [],
   "source": [
    "# Display an image\n",
    "\n",
    "labels = df.loc[:, 'emotion'] \n",
    "pixel_list = df.loc[:, 'pixels']\n",
    "\n",
    "images = np.array([np.fromstring(pixels, dtype=int, sep=\" \") for pixels in pixel_list])"
   ]
  },
  {
   "cell_type": "code",
   "execution_count": null,
   "metadata": {},
   "outputs": [],
   "source": [
    "# reshape the image to display\n",
    "img_num = 150\n",
    "image = images[img_num].reshape(120, 128, 1).astype('float32')\n",
    "\n",
    "# display the image\n",
    "plt.imshow(image, cmap=\"gist_gray\")\n",
    "df.iloc[img_num][\"emotion\"]"
   ]
  },
  {
   "cell_type": "code",
   "execution_count": 14,
   "metadata": {},
   "outputs": [],
   "source": [
    "# Write the df to a CSV\n",
    "df.to_csv(\"CMU Face Images.csv\", index=False)"
   ]
  }
 ],
 "metadata": {
  "kernelspec": {
   "display_name": "tensorflow_env",
   "language": "python",
   "name": "python3"
  },
  "language_info": {
   "codemirror_mode": {
    "name": "ipython",
    "version": 3
   },
   "file_extension": ".py",
   "mimetype": "text/x-python",
   "name": "python",
   "nbconvert_exporter": "python",
   "pygments_lexer": "ipython3",
   "version": "3.10.13"
  }
 },
 "nbformat": 4,
 "nbformat_minor": 2
}
