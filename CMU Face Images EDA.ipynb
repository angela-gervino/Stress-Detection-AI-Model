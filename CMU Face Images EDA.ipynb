{
 "cells": [
  {
   "cell_type": "markdown",
   "metadata": {},
   "source": [
    "Dataset: https://archive.ics.uci.edu/dataset/124/cmu+face+images"
   ]
  },
  {
   "cell_type": "code",
   "execution_count": 1,
   "metadata": {},
   "outputs": [],
   "source": [
    "import pandas as pd\n",
    "import matplotlib.pyplot as plt\n",
    "import numpy as np\n",
    "import glob\n",
    "from PIL import Image"
   ]
  },
  {
   "cell_type": "code",
   "execution_count": 2,
   "metadata": {},
   "outputs": [],
   "source": [
    "path = \"faces\"\n",
    "files = glob.glob(path + \"/**/*.pgm\", recursive=True) # get a list of paths to all the pgm image files from the dataset"
   ]
  },
  {
   "cell_type": "code",
   "execution_count": 3,
   "metadata": {},
   "outputs": [],
   "source": [
    "data = []\n",
    "for file_path in files:\n",
    "    file_name_split = file_path.split(\"\\\\\")[2].split(\"_\")\n",
    "    if len(file_name_split) == 4: # only use the full resolution version of each image\n",
    "        data.append([\n",
    "            file_name_split[0],\n",
    "            file_name_split[1],\n",
    "            file_name_split[2], \n",
    "            file_name_split[3][:-4], # [:-4] removes the .pgm at the end of the string\n",
    "            \" \".join(map(str, list(Image.open(file_path).getdata())))\n",
    "        ])\n",
    "\n",
    "df = pd.DataFrame(data, columns=[\"person\", \"direction\", \"emotion\", \"eyes\", \"pixels\"])"
   ]
  },
  {
   "cell_type": "code",
   "execution_count": 4,
   "metadata": {},
   "outputs": [
    {
     "data": {
      "text/html": [
       "<div>\n",
       "<style scoped>\n",
       "    .dataframe tbody tr th:only-of-type {\n",
       "        vertical-align: middle;\n",
       "    }\n",
       "\n",
       "    .dataframe tbody tr th {\n",
       "        vertical-align: top;\n",
       "    }\n",
       "\n",
       "    .dataframe thead th {\n",
       "        text-align: right;\n",
       "    }\n",
       "</style>\n",
       "<table border=\"1\" class=\"dataframe\">\n",
       "  <thead>\n",
       "    <tr style=\"text-align: right;\">\n",
       "      <th></th>\n",
       "      <th>person</th>\n",
       "      <th>direction</th>\n",
       "      <th>emotion</th>\n",
       "      <th>eyes</th>\n",
       "      <th>pixels</th>\n",
       "    </tr>\n",
       "  </thead>\n",
       "  <tbody>\n",
       "    <tr>\n",
       "      <th>0</th>\n",
       "      <td>an2i</td>\n",
       "      <td>left</td>\n",
       "      <td>angry</td>\n",
       "      <td>open</td>\n",
       "      <td>34 3 2 0 3 29 96 105 92 75 75 77 80 83 82 82 9...</td>\n",
       "    </tr>\n",
       "    <tr>\n",
       "      <th>1</th>\n",
       "      <td>an2i</td>\n",
       "      <td>left</td>\n",
       "      <td>angry</td>\n",
       "      <td>sunglasses</td>\n",
       "      <td>0 0 0 0 0 0 0 0 0 0 0 0 0 0 0 0 0 0 0 0 0 0 0 ...</td>\n",
       "    </tr>\n",
       "    <tr>\n",
       "      <th>2</th>\n",
       "      <td>an2i</td>\n",
       "      <td>left</td>\n",
       "      <td>happy</td>\n",
       "      <td>open</td>\n",
       "      <td>34 3 0 0 3 29 98 108 95 75 77 78 83 85 85 83 9...</td>\n",
       "    </tr>\n",
       "    <tr>\n",
       "      <th>3</th>\n",
       "      <td>an2i</td>\n",
       "      <td>left</td>\n",
       "      <td>happy</td>\n",
       "      <td>sunglasses</td>\n",
       "      <td>36 3 2 2 5 32 102 112 97 78 80 81 86 86 86 86 ...</td>\n",
       "    </tr>\n",
       "    <tr>\n",
       "      <th>4</th>\n",
       "      <td>an2i</td>\n",
       "      <td>left</td>\n",
       "      <td>neutral</td>\n",
       "      <td>open</td>\n",
       "      <td>49 110 118 108 103 100 98 100 101 103 108 116 ...</td>\n",
       "    </tr>\n",
       "  </tbody>\n",
       "</table>\n",
       "</div>"
      ],
      "text/plain": [
       "  person direction  emotion        eyes  \\\n",
       "0   an2i      left    angry        open   \n",
       "1   an2i      left    angry  sunglasses   \n",
       "2   an2i      left    happy        open   \n",
       "3   an2i      left    happy  sunglasses   \n",
       "4   an2i      left  neutral        open   \n",
       "\n",
       "                                              pixels  \n",
       "0  34 3 2 0 3 29 96 105 92 75 75 77 80 83 82 82 9...  \n",
       "1  0 0 0 0 0 0 0 0 0 0 0 0 0 0 0 0 0 0 0 0 0 0 0 ...  \n",
       "2  34 3 0 0 3 29 98 108 95 75 77 78 83 85 85 83 9...  \n",
       "3  36 3 2 2 5 32 102 112 97 78 80 81 86 86 86 86 ...  \n",
       "4  49 110 118 108 103 100 98 100 101 103 108 116 ...  "
      ]
     },
     "execution_count": 4,
     "metadata": {},
     "output_type": "execute_result"
    }
   ],
   "source": [
    "df.head()"
   ]
  },
  {
   "cell_type": "code",
   "execution_count": 5,
   "metadata": {},
   "outputs": [
    {
     "name": "stdout",
     "output_type": "stream",
     "text": [
      "angry\n"
     ]
    }
   ],
   "source": [
    "# Open/view (an) image\n",
    "num = 50\n",
    "print(files[num].split(\"\\\\\")[2].split(\"_\")[2]) # emotion of the image being viewed\n",
    "im = Image.open(files[num])\n",
    "im.show() # opens the image outside of the notebook"
   ]
  },
  {
   "cell_type": "code",
   "execution_count": 6,
   "metadata": {},
   "outputs": [],
   "source": [
    "# maps the scale (full, half, or quarter resolution) to the size of the image\n",
    "# 1,2, or 4 is specified in the file name\n",
    "scale_dict = {1:(128, 120), 2:(64, 60), 4:(32, 30)}"
   ]
  },
  {
   "cell_type": "code",
   "execution_count": 7,
   "metadata": {},
   "outputs": [],
   "source": [
    "# Handle duplicates (if any)\n",
    "df.drop_duplicates(inplace=True)"
   ]
  },
  {
   "cell_type": "code",
   "execution_count": 8,
   "metadata": {},
   "outputs": [
    {
     "data": {
      "text/html": [
       "<div>\n",
       "<style scoped>\n",
       "    .dataframe tbody tr th:only-of-type {\n",
       "        vertical-align: middle;\n",
       "    }\n",
       "\n",
       "    .dataframe tbody tr th {\n",
       "        vertical-align: top;\n",
       "    }\n",
       "\n",
       "    .dataframe thead th {\n",
       "        text-align: right;\n",
       "    }\n",
       "</style>\n",
       "<table border=\"1\" class=\"dataframe\">\n",
       "  <thead>\n",
       "    <tr style=\"text-align: right;\">\n",
       "      <th></th>\n",
       "      <th>person</th>\n",
       "      <th>direction</th>\n",
       "      <th>emotion</th>\n",
       "      <th>eyes</th>\n",
       "      <th>pixels</th>\n",
       "    </tr>\n",
       "  </thead>\n",
       "  <tbody>\n",
       "  </tbody>\n",
       "</table>\n",
       "</div>"
      ],
      "text/plain": [
       "Empty DataFrame\n",
       "Columns: [person, direction, emotion, eyes, pixels]\n",
       "Index: []"
      ]
     },
     "execution_count": 8,
     "metadata": {},
     "output_type": "execute_result"
    }
   ],
   "source": [
    "# Check if there are any images labelled with more than 1 emotion\n",
    "df[df.duplicated(subset=[\"pixels\"])]"
   ]
  },
  {
   "cell_type": "code",
   "execution_count": 9,
   "metadata": {},
   "outputs": [
    {
     "data": {
      "text/html": [
       "<div>\n",
       "<style scoped>\n",
       "    .dataframe tbody tr th:only-of-type {\n",
       "        vertical-align: middle;\n",
       "    }\n",
       "\n",
       "    .dataframe tbody tr th {\n",
       "        vertical-align: top;\n",
       "    }\n",
       "\n",
       "    .dataframe thead th {\n",
       "        text-align: right;\n",
       "    }\n",
       "</style>\n",
       "<table border=\"1\" class=\"dataframe\">\n",
       "  <thead>\n",
       "    <tr style=\"text-align: right;\">\n",
       "      <th></th>\n",
       "      <th>person</th>\n",
       "      <th>direction</th>\n",
       "      <th>emotion</th>\n",
       "      <th>eyes</th>\n",
       "      <th>pixels</th>\n",
       "    </tr>\n",
       "  </thead>\n",
       "  <tbody>\n",
       "  </tbody>\n",
       "</table>\n",
       "</div>"
      ],
      "text/plain": [
       "Empty DataFrame\n",
       "Columns: [person, direction, emotion, eyes, pixels]\n",
       "Index: []"
      ]
     },
     "execution_count": 9,
     "metadata": {},
     "output_type": "execute_result"
    }
   ],
   "source": [
    "# Check if there are any nulls/NaN values\n",
    "df[df.isna().any(axis=1)]"
   ]
  },
  {
   "cell_type": "code",
   "execution_count": 10,
   "metadata": {},
   "outputs": [
    {
     "data": {
      "image/png": "[encoded data removed]",
      "text/plain": [
       "<Figure size 640x480 with 1 Axes>"
      ]
     },
     "metadata": {},
     "output_type": "display_data"
    }
   ],
   "source": [
    "# get overall frequency of different emotions in CMU Face Images\n",
    "emotions = df[\"emotion\"].unique()\n",
    "emotion_freq = dict()\n",
    "\n",
    "for emotion in emotions:\n",
    "    emotion_freq[emotion] = df[\"emotion\"].value_counts()[emotion]\n",
    "\n",
    "fig, ax = plt.subplots()\n",
    "ax.bar(emotion_freq.keys(), emotion_freq.values())\n",
    "ax.set_title(\"Frequency of emotions in CMU Face Images\")\n",
    "\n",
    "plt.show()"
   ]
  },
  {
   "cell_type": "markdown",
   "metadata": {},
   "source": [
    "Emotion categories: \n",
    "- Angry: 155 images\n",
    "- Happy: 155 images\n",
    "- Neutral: 158 images\n",
    "- Sad: 156 images\n",
    "\n",
    "Total images: 624\n",
    "\n",
    "16 images were excluded from the original 640 images due to problems with the camera setup (labelled with .bad suffix)\n",
    "\n",
    "No duplicates were present in the dataset, and no images were assigned more than 1 emotion"
   ]
  },
  {
   "cell_type": "code",
   "execution_count": 11,
   "metadata": {},
   "outputs": [],
   "source": [
    "# Display an image\n",
    "\n",
    "labels = df.loc[:, 'emotion'] \n",
    "pixel_list = df.loc[:, 'pixels']\n",
    "\n",
    "images = np.array([np.fromstring(pixels, dtype=int, sep=\" \") for pixels in pixel_list])"
   ]
  },
  {
   "cell_type": "code",
   "execution_count": 12,
   "metadata": {},
   "outputs": [
    {
     "data": {
      "text/plain": [
       "'happy'"
      ]
     },
     "execution_count": 12,
     "metadata": {},
     "output_type": "execute_result"
    },
    {
     "data": {
      "image/png": "[encoded data removed]",
      "text/plain": [
       "<Figure size 640x480 with 1 Axes>"
      ]
     },
     "metadata": {},
     "output_type": "display_data"
    }
   ],
   "source": [
    "# reshape the image to display\n",
    "img_num = 50\n",
    "image = images[img_num].reshape(120, 128, 1).astype('float32')\n",
    "\n",
    "\n",
    "# display the image\n",
    "plt.imshow(image)\n",
    "df.iloc[img_num][\"emotion\"]"
   ]
  },
  {
   "cell_type": "code",
   "execution_count": 14,
   "metadata": {},
   "outputs": [],
   "source": [
    "# Write the df to a CSV\n",
    "df.to_csv(\"CMU Face Images.csv\", index=False)"
   ]
  }
 ],
 "metadata": {
  "kernelspec": {
   "display_name": "tensorflow_env",
   "language": "python",
   "name": "python3"
  },
  "language_info": {
   "codemirror_mode": {
    "name": "ipython",
    "version": 3
   },
   "file_extension": ".py",
   "mimetype": "text/x-python",
   "name": "python",
   "nbconvert_exporter": "python",
   "pygments_lexer": "ipython3",
   "version": "3.10.13"
  }
 },
 "nbformat": 4,
 "nbformat_minor": 2
}
