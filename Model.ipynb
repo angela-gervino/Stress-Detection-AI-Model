{
 "cells": [
  {
   "cell_type": "code",
   "execution_count": 1,
   "metadata": {},
   "outputs": [
    {
     "name": "stdout",
     "output_type": "stream",
     "text": [
      "WARNING:tensorflow:From c:\\Users\\agervino\\.conda\\envs\\project\\lib\\site-packages\\keras\\src\\losses.py:2976: The name tf.losses.sparse_softmax_cross_entropy is deprecated. Please use tf.compat.v1.losses.sparse_softmax_cross_entropy instead.\n",
      "\n"
     ]
    }
   ],
   "source": [
    "import tensorflow as tf\n",
    "import numpy as np\n",
    "from PIL import Image\n",
    "import pathlib"
   ]
  },
  {
   "cell_type": "code",
   "execution_count": 42,
   "metadata": {},
   "outputs": [],
   "source": [
    "input_ = tf.keras.layers.Input(shape=(224, 224, 1), name=\"INPUT\")\n",
    "normalization = tf.keras.layers.Rescaling(1./255)(input_) # Standardize the data\n",
    "conv1 = tf.keras.layers.Conv2D(filters=32, kernel_size=(7, 7), strides=1, activation=\"relu\", padding=\"same\", name=\"CONV1\")(normalization) \n",
    "pool1 = tf.keras.layers.MaxPooling2D(pool_size=(2, 2), strides=2, name=\"POOL1\")(conv1) \n",
    "conv2 = tf.keras.layers.Conv2D(filters=32, kernel_size=(7, 7), strides=1, activation=\"relu\", padding=\"same\", name=\"CONV2\")(pool1)\n",
    "concat1 = tf.keras.layers.Concatenate()([pool1, conv2])\n",
    "\n",
    "pool2 = tf.keras.layers.MaxPooling2D(pool_size=(2, 2), strides=2, name=\"POOL2\")(concat1)\n",
    "conv3 = tf.keras.layers.Conv2D(filters=64, kernel_size=(5, 5), strides=1, activation=\"relu\", padding=\"same\", name=\"CONV3\")(pool2)\n",
    "concat2 = tf.keras.layers.Concatenate()([pool2, conv3])\n",
    "\n",
    "pool3 = tf.keras.layers.MaxPooling2D(pool_size=(2, 2), strides=2, name=\"POOL3\")(concat2)\n",
    "conv4 = tf.keras.layers.Conv2D(filters=64, kernel_size=(5, 5), strides=1, activation=\"relu\", padding=\"same\", name=\"CONV4\")(pool3)\n",
    "concat3 = tf.keras.layers.Concatenate()([pool3, conv4])\n",
    "\n",
    "pool4 = tf.keras.layers.MaxPooling2D(pool_size=(2, 2), strides=2, name=\"POOL4\")(concat3)\n",
    "flatten = tf.keras.layers.Flatten()(pool4)\n",
    "fc1 = tf.keras.layers.Dense(4096, activation='relu')(flatten)\n",
    "dropout1 = tf.keras.layers.Dropout(0.5)(fc1)\n",
    "fc2 = tf.keras.layers.Dense(2048, activation='relu')(dropout1)\n",
    "dropout2 = tf.keras.layers.Dropout(0.5)(fc2)\n",
    "\n",
    "output = tf.keras.layers.Dense(7, activation='softmax')(dropout2)\n",
    "\n",
    "model = tf.keras.Model(\n",
    "    inputs=[input_],\n",
    "    outputs=[output]\n",
    ")"
   ]
  },
  {
   "cell_type": "markdown",
   "metadata": {},
   "source": [
    "Load in / prep the data"
   ]
  },
  {
   "cell_type": "code",
   "execution_count": 18,
   "metadata": {},
   "outputs": [],
   "source": [
    "train_dir = pathlib.Path(\"Train v2\").with_suffix('')\n",
    "test_dir = pathlib.Path(\"Test v2\").with_suffix('')"
   ]
  },
  {
   "cell_type": "code",
   "execution_count": 19,
   "metadata": {},
   "outputs": [
    {
     "name": "stdout",
     "output_type": "stream",
     "text": [
      "Number of images for training/val: 3842\n",
      "NUmber of images for testing: 180\n"
     ]
    }
   ],
   "source": [
    "print(f\"Number of images for training/val: {len(list(train_dir.glob('*/*.jpg')))}\")\n",
    "print(f\"NUmber of images for testing: {len(list(test_dir.glob('*/*.jpg')))}\") "
   ]
  },
  {
   "cell_type": "code",
   "execution_count": 25,
   "metadata": {},
   "outputs": [
    {
     "data": {
      "image/jpeg": "[encoded data removed]",
      "image/png": "[encoded data removed]",
      "text/plain": [
       "<PIL.JpegImagePlugin.JpegImageFile image mode=L size=224x224>"
      ]
     },
     "execution_count": 25,
     "metadata": {},
     "output_type": "execute_result"
    }
   ],
   "source": [
    "# Display an image\n",
    "angry = list(test_dir.glob('Neutral/*'))\n",
    "Image.open(str(angry[0]))"
   ]
  },
  {
   "cell_type": "code",
   "execution_count": 14,
   "metadata": {},
   "outputs": [
    {
     "name": "stdout",
     "output_type": "stream",
     "text": [
      "Number of samples in each emotion category in the Train/Val set\n",
      "Emotion:Angry, # Samples:517\n",
      "Emotion:Disgust, # Samples:333\n",
      "Emotion:Fear, # Samples:512\n",
      "Emotion:Happy, # Samples:583\n",
      "Emotion:Neutral, # Samples:570\n",
      "Emotion:Sad, # Samples:678\n",
      "Emotion:Surprise, # Samples:649\n"
     ]
    }
   ],
   "source": [
    "# Check how many samples fall into each emotion category\n",
    "print(\"Number of samples in each emotion category in the Train/Val set\")\n",
    "for e in [\"Angry\", \"Disgust\", \"Fear\", \"Happy\", \"Neutral\", \"Sad\", \"Surprise\"]:\n",
    "    print(f\"Emotion:{e}, # Samples:{len(list(train_dir.glob(f'{e}/*')))}\")"
   ]
  },
  {
   "cell_type": "code",
   "execution_count": 26,
   "metadata": {},
   "outputs": [
    {
     "name": "stdout",
     "output_type": "stream",
     "text": [
      "Found 3842 files belonging to 7 classes.\n",
      "Using 3458 files for training.\n",
      "Found 3842 files belonging to 7 classes.\n",
      "Using 384 files for validation.\n",
      "Found 210 files belonging to 7 classes.\n"
     ]
    }
   ],
   "source": [
    "# Convert images to format compatible with TF\n",
    "\n",
    "im_size = (224, 224)\n",
    "val_split = 0.1\n",
    "batch_size = 32\n",
    "seed = 11\n",
    "mode = \"grayscale\"\n",
    "\n",
    "train_ds = tf.keras.utils.image_dataset_from_directory(\n",
    "    train_dir,\n",
    "    validation_split=val_split,\n",
    "    subset=\"training\",\n",
    "    seed=seed,\n",
    "    image_size=(im_size),\n",
    "    batch_size=batch_size,\n",
    "    color_mode=mode\n",
    ")\n",
    "\n",
    "val_ds = tf.keras.utils.image_dataset_from_directory(\n",
    "    train_dir,\n",
    "    validation_split=val_split,\n",
    "    subset=\"validation\",\n",
    "    seed=seed,\n",
    "    image_size=(im_size),\n",
    "    batch_size=batch_size,\n",
    "    color_mode=mode\n",
    ")\n",
    "\n",
    "test_ds = tf.keras.utils.image_dataset_from_directory(\n",
    "    test_dir,\n",
    "    image_size=im_size,\n",
    "    batch_size=batch_size,\n",
    "    color_mode=mode\n",
    ")"
   ]
  },
  {
   "cell_type": "code",
   "execution_count": 43,
   "metadata": {},
   "outputs": [],
   "source": [
    "model.compile( \n",
    "    optimizer=tf.keras.optimizers.Adam(),\n",
    "    loss=tf.keras.losses.SparseCategoricalCrossentropy(),\n",
    "    metrics=['accuracy']\n",
    ")"
   ]
  },
  {
   "cell_type": "code",
   "execution_count": 44,
   "metadata": {},
   "outputs": [
    {
     "name": "stdout",
     "output_type": "stream",
     "text": [
      "Epoch 1/15\n"
     ]
    },
    {
     "name": "stdout",
     "output_type": "stream",
     "text": [
      "109/109 [==============================] - 391s 4s/step - loss: 2.0562 - accuracy: 0.1802 - val_loss: 1.8927 - val_accuracy: 0.2370\n",
      "Epoch 2/15\n",
      "109/109 [==============================] - 387s 4s/step - loss: 1.8371 - accuracy: 0.2606 - val_loss: 1.7741 - val_accuracy: 0.3203\n",
      "Epoch 3/15\n",
      "109/109 [==============================] - 386s 4s/step - loss: 1.7688 - accuracy: 0.3010 - val_loss: 1.6808 - val_accuracy: 0.3698\n",
      "Epoch 4/15\n",
      "109/109 [==============================] - 392s 4s/step - loss: 1.6475 - accuracy: 0.3462 - val_loss: 1.6536 - val_accuracy: 0.3620\n",
      "Epoch 5/15\n",
      "109/109 [==============================] - 400s 4s/step - loss: 1.4943 - accuracy: 0.4268 - val_loss: 1.6089 - val_accuracy: 0.3854\n",
      "Epoch 6/15\n",
      "109/109 [==============================] - 392s 4s/step - loss: 1.3488 - accuracy: 0.4986 - val_loss: 1.5967 - val_accuracy: 0.3958\n",
      "Epoch 7/15\n",
      "109/109 [==============================] - 398s 4s/step - loss: 1.1711 - accuracy: 0.5630 - val_loss: 1.8213 - val_accuracy: 0.3776\n",
      "Epoch 8/15\n",
      "109/109 [==============================] - 395s 4s/step - loss: 0.9649 - accuracy: 0.6385 - val_loss: 1.8439 - val_accuracy: 0.4089\n",
      "Epoch 9/15\n",
      "109/109 [==============================] - 390s 4s/step - loss: 0.7603 - accuracy: 0.7230 - val_loss: 1.9200 - val_accuracy: 0.4323\n",
      "Epoch 10/15\n",
      "109/109 [==============================] - 394s 4s/step - loss: 0.6000 - accuracy: 0.7822 - val_loss: 2.3268 - val_accuracy: 0.3854\n",
      "Epoch 11/15\n",
      "109/109 [==============================] - 387s 4s/step - loss: 0.4399 - accuracy: 0.8490 - val_loss: 2.7064 - val_accuracy: 0.4245\n",
      "Epoch 12/15\n",
      "109/109 [==============================] - 391s 4s/step - loss: 0.3663 - accuracy: 0.8681 - val_loss: 2.6633 - val_accuracy: 0.4167\n",
      "Epoch 13/15\n",
      "109/109 [==============================] - 384s 4s/step - loss: 0.3512 - accuracy: 0.8890 - val_loss: 2.6686 - val_accuracy: 0.4167\n",
      "Epoch 14/15\n",
      "109/109 [==============================] - 388s 4s/step - loss: 0.2627 - accuracy: 0.9153 - val_loss: 3.1384 - val_accuracy: 0.4297\n",
      "Epoch 15/15\n",
      "109/109 [==============================] - 387s 4s/step - loss: 0.2138 - accuracy: 0.9289 - val_loss: 3.0510 - val_accuracy: 0.4271\n"
     ]
    }
   ],
   "source": [
    "history = model.fit(\n",
    "    train_ds,\n",
    "    epochs=15,\n",
    "    validation_data=(val_ds)\n",
    ")"
   ]
  },
  {
   "cell_type": "markdown",
   "metadata": {},
   "source": [
    "Make Predictions"
   ]
  },
  {
   "cell_type": "code",
   "execution_count": null,
   "metadata": {},
   "outputs": [],
   "source": [
    "predicted = []\n",
    "actual = []\n",
    "\n",
    "for images, labels in test_ds:\n",
    "    probabilities = model.predict(images)\n",
    "\n",
    "    for pred in probabilities:\n",
    "        predicted.append(np.argmax(pred))\n",
    "    \n",
    "    for l in labels:\n",
    "        actual.append(l)"
   ]
  },
  {
   "cell_type": "code",
   "execution_count": null,
   "metadata": {},
   "outputs": [],
   "source": [
    "expressions = {0:\"Angry\", 1:\"Disgust\", 2:\"Fear\", 3:\"Happy\", 4:\"Sad\", 5:\"Surprise\", 6:\"Neutral\"}\n",
    "\n",
    "for i in range(len(actual)):\n",
    "    print(f\"Actual={expressions[actual[i].numpy()]}, Predicted={expressions[predicted[i]]}\")"
   ]
  },
  {
   "cell_type": "markdown",
   "metadata": {},
   "source": [
    "Confusion Matrix"
   ]
  },
  {
   "cell_type": "code",
   "execution_count": 19,
   "metadata": {},
   "outputs": [],
   "source": [
    "import seaborn as sns \n",
    "import matplotlib.pyplot as plt"
   ]
  },
  {
   "cell_type": "code",
   "execution_count": 46,
   "metadata": {},
   "outputs": [],
   "source": [
    "array = tf.math.confusion_matrix(labels=actual, predictions=predicted)"
   ]
  },
  {
   "cell_type": "code",
   "execution_count": null,
   "metadata": {},
   "outputs": [],
   "source": [
    "plt.figure(figsize=(10,7))\n",
    "l = [\"Angry\", \"Disgust\", \"Fear\", \"Happy\", \"Sad\", \"Surprise\", \"Neutral\"]\n",
    "sns.heatmap(array, annot=True, cmap=sns.color_palette(\"Greens\"), xticklabels=l, yticklabels=l).set(xlabel=\"Predicted\", ylabel=\"Actual\")"
   ]
  },
  {
   "cell_type": "markdown",
   "metadata": {},
   "source": [
    "Model Metrics"
   ]
  },
  {
   "cell_type": "code",
   "execution_count": 13,
   "metadata": {},
   "outputs": [],
   "source": [
    "from sklearn.metrics import f1_score, accuracy_score, precision_score, recall_score"
   ]
  },
  {
   "cell_type": "code",
   "execution_count": null,
   "metadata": {},
   "outputs": [],
   "source": [
    "print(f\"F1-Score:   {dict( zip( l, f1_score(actual, predicted, average=None) ) )}\")\n",
    "print(f\"Accuracy:   {accuracy_score(actual, predicted)}\")\n",
    "print(f\"Precision:  {dict( zip( l, precision_score(actual, predicted, average=None) ) )}\")\n",
    "print(f\"Recall:     {dict( zip( l, recall_score(actual, predicted, average=None) ) )}\")"
   ]
  },
  {
   "cell_type": "markdown",
   "metadata": {},
   "source": [
    "Save the model"
   ]
  },
  {
   "cell_type": "code",
   "execution_count": 49,
   "metadata": {},
   "outputs": [],
   "source": [
    "model.save('v2.keras')"
   ]
  },
  {
   "cell_type": "markdown",
   "metadata": {},
   "source": [
    "Load a model"
   ]
  },
  {
   "cell_type": "code",
   "execution_count": null,
   "metadata": {},
   "outputs": [],
   "source": [
    "m = tf.keras.models.load_model('v2.keras')"
   ]
  }
 ],
 "metadata": {
  "kernelspec": {
   "display_name": "project",
   "language": "python",
   "name": "python3"
  },
  "language_info": {
   "codemirror_mode": {
    "name": "ipython",
    "version": 3
   },
   "file_extension": ".py",
   "mimetype": "text/x-python",
   "name": "python",
   "nbconvert_exporter": "python",
   "pygments_lexer": "ipython3",
   "version": "3.10.13"
  }
 },
 "nbformat": 4,
 "nbformat_minor": 2
}
