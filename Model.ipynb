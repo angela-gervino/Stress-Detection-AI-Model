{
 "cells": [
  {
   "cell_type": "code",
   "execution_count": null,
   "metadata": {},
   "outputs": [],
   "source": [
    "import tensorflow as tf\n",
    "import numpy as np\n",
    "import pandas as pd\n",
    "from PIL import Image\n",
    "import pathlib"
   ]
  },
  {
   "cell_type": "code",
   "execution_count": null,
   "metadata": {},
   "outputs": [],
   "source": [
    "input_ = tf.keras.layers.Input(shape=(224, 224, 1), name=\"INPUT\")\n",
    "normalization = tf.keras.layers.Rescaling(1./255)(input_) # Standardize the data\n",
    "conv1 = tf.keras.layers.Conv2D(filters=32, kernel_size=(1, 1), strides=1, activation=\"relu\", name=\"CONV1\")(normalization) \n",
    "pool1 = tf.keras.layers.MaxPooling2D(pool_size=(2, 2), strides=2, name=\"POOL1\")(conv1) \n",
    "conv2 = tf.keras.layers.Conv2D(filters=32, kernel_size=(1, 1), strides=1, activation=\"relu\", name=\"CONV2\")(pool1)\n",
    "concat1 = tf.keras.layers.Concatenate()([pool1, conv2])\n",
    "\n",
    "pool2 = tf.keras.layers.MaxPooling2D(pool_size=(2, 2), strides=2, name=\"POOL2\")(concat1)\n",
    "conv3 = tf.keras.layers.Conv2D(filters=64, kernel_size=(1, 1), strides=1, activation=\"relu\", name=\"CONV3\")(pool2)\n",
    "concat2 = tf.keras.layers.Concatenate()([pool2, conv3])\n",
    "\n",
    "pool3 = tf.keras.layers.MaxPooling2D(pool_size=(2, 2), strides=2, name=\"POOL3\")(concat2)\n",
    "conv4 = tf.keras.layers.Conv2D(filters=64, kernel_size=(1, 1), strides=1, activation=\"relu\", name=\"CONV4\")(pool3)\n",
    "concat3 = tf.keras.layers.Concatenate()([pool3, conv4])\n",
    "\n",
    "pool4 = tf.keras.layers.MaxPooling2D(pool_size=(2, 2), strides=2, name=\"POOL4\")(concat3)\n",
    "flatten = tf.keras.layers.Flatten()(pool4)\n",
    "fc1 = tf.keras.layers.Dense(4096, activation='relu')(flatten)\n",
    "fc2 = tf.keras.layers.Dense(2048, activation='relu')(fc1)\n",
    "\n",
    "output = tf.keras.layers.Dense(7, activation='softmax')(fc2)\n",
    "\n",
    "model = tf.keras.Model(\n",
    "    inputs=[input_],\n",
    "    outputs=[output]\n",
    ")"
   ]
  },
  {
   "cell_type": "markdown",
   "metadata": {},
   "source": [
    "Load in / prep the data"
   ]
  },
  {
   "cell_type": "code",
   "execution_count": 3,
   "metadata": {},
   "outputs": [],
   "source": [
    "data_dir = pathlib.Path(\"Train\").with_suffix('')"
   ]
  },
  {
   "cell_type": "code",
   "execution_count": 4,
   "metadata": {},
   "outputs": [
    {
     "data": {
      "text/plain": [
       "2735"
      ]
     },
     "execution_count": 4,
     "metadata": {},
     "output_type": "execute_result"
    }
   ],
   "source": [
    "image_count = len(list(data_dir.glob('*/*.jpg')))\n",
    "image_count"
   ]
  },
  {
   "cell_type": "code",
   "execution_count": null,
   "metadata": {},
   "outputs": [],
   "source": [
    "angry = list(data_dir.glob('Angry/*'))\n",
    "Image.open(str(angry[0]))"
   ]
  },
  {
   "cell_type": "code",
   "execution_count": null,
   "metadata": {},
   "outputs": [],
   "source": [
    "im_size = (224, 224)\n",
    "val_split = 0.1\n",
    "batch_size = 32\n",
    "seed_ = 11\n",
    "mode = \"grayscale\"\n",
    "\n",
    "train_ds = tf.keras.utils.image_dataset_from_directory(\n",
    "    data_dir,\n",
    "    validation_split=val_split,\n",
    "    subset=\"training\",\n",
    "    seed=seed_,\n",
    "    image_size=(im_size),\n",
    "    batch_size=batch_size,\n",
    "    color_mode=mode\n",
    ")\n",
    "\n",
    "val_ds = tf.keras.utils.image_dataset_from_directory(\n",
    "    data_dir,\n",
    "    validation_split=val_split,\n",
    "    subset=\"validation\",\n",
    "    seed=seed_,\n",
    "    image_size=(im_size),\n",
    "    batch_size=batch_size,\n",
    "    color_mode=mode\n",
    ")"
   ]
  },
  {
   "cell_type": "code",
   "execution_count": 8,
   "metadata": {},
   "outputs": [],
   "source": [
    "model.compile( \n",
    "    optimizer=tf.keras.optimizers.Adam(),\n",
    "    loss=tf.keras.losses.SparseCategoricalCrossentropy(),\n",
    "    metrics=['accuracy']\n",
    ")"
   ]
  },
  {
   "cell_type": "code",
   "execution_count": null,
   "metadata": {},
   "outputs": [],
   "source": [
    "history = model.fit(\n",
    "    train_ds,\n",
    "    epochs=3,\n",
    "    validation_data=(val_ds)\n",
    ")"
   ]
  },
  {
   "cell_type": "markdown",
   "metadata": {},
   "source": [
    "Make Predictions"
   ]
  },
  {
   "cell_type": "code",
   "execution_count": null,
   "metadata": {},
   "outputs": [],
   "source": [
    "test_dir = pathlib.Path(\"Test\").with_suffix('')\n",
    "test_ds = tf.keras.utils.image_dataset_from_directory(\n",
    "    test_dir,\n",
    "    image_size=(224, 224),\n",
    "    batch_size=batch_size,\n",
    "    color_mode=mode\n",
    ")"
   ]
  },
  {
   "cell_type": "code",
   "execution_count": null,
   "metadata": {},
   "outputs": [],
   "source": [
    "predicted = []\n",
    "actual = []\n",
    "\n",
    "for images, labels in test_ds:\n",
    "    probabilities = model.predict(images)\n",
    "\n",
    "    for pred in probabilities:\n",
    "        predicted.append(np.argmax(pred))\n",
    "    \n",
    "    actual = labels.numpy()\n"
   ]
  },
  {
   "cell_type": "code",
   "execution_count": null,
   "metadata": {},
   "outputs": [],
   "source": [
    "expressions = {0:\"Angry\", 1:\"Disgust\", 2:\"Fear\", 3:\"Happy\", 4:\"Sad\", 5:\"Surprise\", 6:\"Neutral\"}\n",
    "\n",
    "for i in range(len(actual)):\n",
    "    print(f\"Actual={expressions[actual[i]]}, Predicted={expressions[predicted[i]]}\")\n"
   ]
  },
  {
   "cell_type": "markdown",
   "metadata": {},
   "source": [
    "Confusion Matrix"
   ]
  },
  {
   "cell_type": "code",
   "execution_count": 44,
   "metadata": {},
   "outputs": [],
   "source": [
    "import seaborn as sns \n",
    "import matplotlib.pyplot as plt"
   ]
  },
  {
   "cell_type": "code",
   "execution_count": 47,
   "metadata": {},
   "outputs": [],
   "source": [
    "array = tf.math.confusion_matrix(labels=actual, predictions=predicted)"
   ]
  },
  {
   "cell_type": "code",
   "execution_count": 48,
   "metadata": {},
   "outputs": [
    {
     "data": {
      "text/plain": [
       "<Axes: >"
      ]
     },
     "execution_count": 48,
     "metadata": {},
     "output_type": "execute_result"
    },
    {
     "data": {
      "image/png": "[encoded data removed]",
      "text/plain": [
       "<Figure size 1000x700 with 2 Axes>"
      ]
     },
     "metadata": {},
     "output_type": "display_data"
    }
   ],
   "source": [
    "plt.figure(figsize=(10,7))\n",
    "sns.heatmap(array, annot=True, cmap=sns.color_palette(\"Greens\"))"
   ]
  },
  {
   "cell_type": "markdown",
   "metadata": {},
   "source": [
    "Model Metrics"
   ]
  },
  {
   "cell_type": "code",
   "execution_count": 53,
   "metadata": {},
   "outputs": [],
   "source": [
    "from sklearn.metrics import f1_score, accuracy_score, precision_score, recall_score"
   ]
  },
  {
   "cell_type": "code",
   "execution_count": 71,
   "metadata": {},
   "outputs": [],
   "source": [
    "l = [\"Angry\", \"Disgust\", \"Fear\", \"Happy\", \"Sad\", \"Surprise\", \"Neutral\"]"
   ]
  },
  {
   "cell_type": "code",
   "execution_count": null,
   "metadata": {},
   "outputs": [],
   "source": [
    "print(f\"F1-Score: {dict( zip( l, f1_score(actual, predicted, average=None)) )}\")\n",
    "print(f\"Accuracy: {accuracy_score(actual, predicted)}\")\n",
    "print(f\"Precision: {precision_score(actual, predicted, average=None)}\")\n",
    "print(f\"Recall: {recall_score(actual, predicted, average=None)}\")"
   ]
  }
 ],
 "metadata": {
  "kernelspec": {
   "display_name": "project",
   "language": "python",
   "name": "python3"
  },
  "language_info": {
   "codemirror_mode": {
    "name": "ipython",
    "version": 3
   },
   "file_extension": ".py",
   "mimetype": "text/x-python",
   "name": "python",
   "nbconvert_exporter": "python",
   "pygments_lexer": "ipython3",
   "version": "3.10.13"
  }
 },
 "nbformat": 4,
 "nbformat_minor": 2
}
