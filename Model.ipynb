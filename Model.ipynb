{
 "cells": [
  {
   "cell_type": "code",
   "execution_count": null,
   "metadata": {},
   "outputs": [],
   "source": [
    "import tensorflow as tf\n",
    "import numpy as np\n",
    "from PIL import Image\n",
    "import pathlib"
   ]
  },
  {
   "cell_type": "code",
   "execution_count": null,
   "metadata": {},
   "outputs": [],
   "source": [
    "input_ = tf.keras.layers.Input(shape=(224, 224, 1), name=\"INPUT\")\n",
    "normalization = tf.keras.layers.Rescaling(1./255)(input_) # Standardize the data\n",
    "conv1 = tf.keras.layers.Conv2D(filters=32, kernel_size=(1, 1), strides=1, activation=\"relu\", name=\"CONV1\")(normalization) \n",
    "pool1 = tf.keras.layers.MaxPooling2D(pool_size=(2, 2), strides=2, name=\"POOL1\")(conv1) \n",
    "conv2 = tf.keras.layers.Conv2D(filters=32, kernel_size=(1, 1), strides=1, activation=\"relu\", name=\"CONV2\")(pool1)\n",
    "concat1 = tf.keras.layers.Concatenate()([pool1, conv2])\n",
    "\n",
    "pool2 = tf.keras.layers.MaxPooling2D(pool_size=(2, 2), strides=2, name=\"POOL2\")(concat1)\n",
    "conv3 = tf.keras.layers.Conv2D(filters=64, kernel_size=(1, 1), strides=1, activation=\"relu\", name=\"CONV3\")(pool2)\n",
    "concat2 = tf.keras.layers.Concatenate()([pool2, conv3])\n",
    "\n",
    "pool3 = tf.keras.layers.MaxPooling2D(pool_size=(2, 2), strides=2, name=\"POOL3\")(concat2)\n",
    "conv4 = tf.keras.layers.Conv2D(filters=64, kernel_size=(1, 1), strides=1, activation=\"relu\", name=\"CONV4\")(pool3)\n",
    "concat3 = tf.keras.layers.Concatenate()([pool3, conv4])\n",
    "\n",
    "pool4 = tf.keras.layers.MaxPooling2D(pool_size=(2, 2), strides=2, name=\"POOL4\")(concat3)\n",
    "flatten = tf.keras.layers.Flatten()(pool4)\n",
    "fc1 = tf.keras.layers.Dense(4096, activation='relu')(flatten)\n",
    "fc2 = tf.keras.layers.Dense(2048, activation='relu')(fc1)\n",
    "\n",
    "output = tf.keras.layers.Dense(7, activation='softmax')(fc2)\n",
    "\n",
    "model = tf.keras.Model(\n",
    "    inputs=[input_],\n",
    "    outputs=[output]\n",
    ")"
   ]
  },
  {
   "cell_type": "markdown",
   "metadata": {},
   "source": [
    "Load in / prep the data"
   ]
  },
  {
   "cell_type": "code",
   "execution_count": 15,
   "metadata": {},
   "outputs": [],
   "source": [
    "train_dir = pathlib.Path(\"Train\").with_suffix('')\n",
    "test_dir = pathlib.Path(\"Test\").with_suffix('')"
   ]
  },
  {
   "cell_type": "code",
   "execution_count": 16,
   "metadata": {},
   "outputs": [
    {
     "name": "stdout",
     "output_type": "stream",
     "text": [
      "Number of images for training/val: 2093\n",
      "NUmber of images for testing: 639\n"
     ]
    }
   ],
   "source": [
    "print(f\"Number of images for training/val: {len(list(train_dir.glob('*/*.jpg')))}\")\n",
    "print(f\"NUmber of images for testing: {len(list(test_dir.glob('*/*.jpg')))}\") "
   ]
  },
  {
   "cell_type": "code",
   "execution_count": null,
   "metadata": {},
   "outputs": [],
   "source": [
    "# Display an image\n",
    "angry = list(train_dir.glob('Angry/*'))\n",
    "Image.open(str(angry[0]))"
   ]
  },
  {
   "cell_type": "code",
   "execution_count": 24,
   "metadata": {},
   "outputs": [
    {
     "name": "stdout",
     "output_type": "stream",
     "text": [
      "Number of samples in each emotion category in the Train/Val set\n",
      "Emotion:Angry, # Samples:327\n",
      "Emotion:Disgust, # Samples:132\n",
      "Emotion:Fear, # Samples:339\n",
      "Emotion:Happy, # Samples:292\n",
      "Emotion:Neutral, # Samples:320\n",
      "Emotion:Sad, # Samples:332\n",
      "Emotion:Surprise, # Samples:283\n"
     ]
    }
   ],
   "source": [
    "# Check how many samples fall into each emotion category\n",
    "print(\"Number of samples in each emotion category in the Train/Val set\")\n",
    "for e in [\"Angry\", \"Disgust\", \"Fear\", \"Happy\", \"Neutral\", \"Sad\", \"Surprise\"]:\n",
    "    print(f\"Emotion:{e}, # Samples:{len(list(train_dir.glob(f'{e}/*')))}\")"
   ]
  },
  {
   "cell_type": "code",
   "execution_count": 25,
   "metadata": {},
   "outputs": [
    {
     "name": "stdout",
     "output_type": "stream",
     "text": [
      "Found 2025 files belonging to 7 classes.\n",
      "Using 1823 files for training.\n",
      "Found 2025 files belonging to 7 classes.\n",
      "Using 202 files for validation.\n",
      "Found 799 files belonging to 7 classes.\n"
     ]
    }
   ],
   "source": [
    "# Convert images to format compatible with TF\n",
    "\n",
    "im_size = (224, 224)\n",
    "val_split = 0.1\n",
    "batch_size = 32\n",
    "seed = 11\n",
    "mode = \"grayscale\"\n",
    "\n",
    "train_ds = tf.keras.utils.image_dataset_from_directory(\n",
    "    train_dir,\n",
    "    validation_split=val_split,\n",
    "    subset=\"training\",\n",
    "    seed=seed,\n",
    "    image_size=(im_size),\n",
    "    batch_size=batch_size,\n",
    "    color_mode=mode\n",
    ")\n",
    "\n",
    "val_ds = tf.keras.utils.image_dataset_from_directory(\n",
    "    train_dir,\n",
    "    validation_split=val_split,\n",
    "    subset=\"validation\",\n",
    "    seed=seed,\n",
    "    image_size=(im_size),\n",
    "    batch_size=batch_size,\n",
    "    color_mode=mode\n",
    ")\n",
    "\n",
    "test_ds = tf.keras.utils.image_dataset_from_directory(\n",
    "    test_dir,\n",
    "    image_size=im_size,\n",
    "    batch_size=batch_size,\n",
    "    color_mode=mode\n",
    ")"
   ]
  },
  {
   "cell_type": "code",
   "execution_count": 26,
   "metadata": {},
   "outputs": [],
   "source": [
    "model.compile( \n",
    "    optimizer=tf.keras.optimizers.Adam(),\n",
    "    loss=tf.keras.losses.SparseCategoricalCrossentropy(),\n",
    "    metrics=['accuracy']\n",
    ")"
   ]
  },
  {
   "cell_type": "code",
   "execution_count": 27,
   "metadata": {},
   "outputs": [
    {
     "name": "stdout",
     "output_type": "stream",
     "text": [
      "Epoch 1/5\n",
      "WARNING:tensorflow:From c:\\Users\\agervino\\.conda\\envs\\project\\lib\\site-packages\\keras\\src\\utils\\tf_utils.py:492: The name tf.ragged.RaggedTensorValue is deprecated. Please use tf.compat.v1.ragged.RaggedTensorValue instead.\n",
      "\n",
      "WARNING:tensorflow:From c:\\Users\\agervino\\.conda\\envs\\project\\lib\\site-packages\\keras\\src\\engine\\base_layer_utils.py:384: The name tf.executing_eagerly_outside_functions is deprecated. Please use tf.compat.v1.executing_eagerly_outside_functions instead.\n",
      "\n",
      "57/57 [==============================] - 180s 3s/step - loss: 4.2401 - accuracy: 0.1569 - val_loss: 1.9280 - val_accuracy: 0.2178\n",
      "Epoch 2/5\n",
      "57/57 [==============================] - 174s 3s/step - loss: 1.8917 - accuracy: 0.1931 - val_loss: 1.8951 - val_accuracy: 0.2129\n",
      "Epoch 3/5\n",
      "57/57 [==============================] - 159s 3s/step - loss: 1.8481 - accuracy: 0.2244 - val_loss: 1.8866 - val_accuracy: 0.2277\n",
      "Epoch 4/5\n",
      "57/57 [==============================] - 166s 3s/step - loss: 1.7745 - accuracy: 0.2644 - val_loss: 1.8088 - val_accuracy: 0.2624\n",
      "Epoch 5/5\n",
      "57/57 [==============================] - 164s 3s/step - loss: 1.7069 - accuracy: 0.3055 - val_loss: 1.8208 - val_accuracy: 0.3119\n"
     ]
    }
   ],
   "source": [
    "history = model.fit(\n",
    "    train_ds,\n",
    "    epochs=5,\n",
    "    validation_data=(val_ds)\n",
    ")"
   ]
  },
  {
   "cell_type": "markdown",
   "metadata": {},
   "source": [
    "Make Predictions"
   ]
  },
  {
   "cell_type": "code",
   "execution_count": null,
   "metadata": {},
   "outputs": [],
   "source": [
    "predicted = []\n",
    "actual = []\n",
    "\n",
    "for images, labels in test_ds:\n",
    "    probabilities = model.predict(images)\n",
    "\n",
    "    for pred in probabilities:\n",
    "        predicted.append(np.argmax(pred))\n",
    "    \n",
    "    for l in labels:\n",
    "        actual.append(l)"
   ]
  },
  {
   "cell_type": "code",
   "execution_count": null,
   "metadata": {},
   "outputs": [],
   "source": [
    "expressions = {0:\"Angry\", 1:\"Disgust\", 2:\"Fear\", 3:\"Happy\", 4:\"Sad\", 5:\"Surprise\", 6:\"Neutral\"}\n",
    "\n",
    "for i in range(len(actual)):\n",
    "    print(f\"Actual={expressions[actual[i].numpy()]}, Predicted={expressions[predicted[i]]}\")"
   ]
  },
  {
   "cell_type": "markdown",
   "metadata": {},
   "source": [
    "Confusion Matrix"
   ]
  },
  {
   "cell_type": "code",
   "execution_count": 30,
   "metadata": {},
   "outputs": [],
   "source": [
    "import seaborn as sns \n",
    "import matplotlib.pyplot as plt"
   ]
  },
  {
   "cell_type": "code",
   "execution_count": 37,
   "metadata": {},
   "outputs": [],
   "source": [
    "array = tf.math.confusion_matrix(labels=actual, predictions=predicted)"
   ]
  },
  {
   "cell_type": "code",
   "execution_count": 62,
   "metadata": {},
   "outputs": [
    {
     "data": {
      "text/plain": [
       "[Text(0.5, 47.7222222222222, 'Predicted'),\n",
       " Text(95.72222222222221, 0.5, 'Actual')]"
      ]
     },
     "execution_count": 62,
     "metadata": {},
     "output_type": "execute_result"
    },
    {
     "data": {
      "image/png": "[encoded data removed]",
      "text/plain": [
       "<Figure size 1000x700 with 2 Axes>"
      ]
     },
     "metadata": {},
     "output_type": "display_data"
    }
   ],
   "source": [
    "plt.figure(figsize=(10,7))\n",
    "l = [\"Angry\", \"Disgust\", \"Fear\", \"Happy\", \"Sad\", \"Surprise\", \"Neutral\"]\n",
    "sns.heatmap(array, annot=True, cmap=sns.color_palette(\"Greens\"), xticklabels=l, yticklabels=l).set(xlabel=\"Predicted\", ylabel=\"Actual\")"
   ]
  },
  {
   "cell_type": "markdown",
   "metadata": {},
   "source": [
    "Model Metrics"
   ]
  },
  {
   "cell_type": "code",
   "execution_count": 39,
   "metadata": {},
   "outputs": [],
   "source": [
    "from sklearn.metrics import f1_score, accuracy_score, precision_score, recall_score"
   ]
  },
  {
   "cell_type": "code",
   "execution_count": 45,
   "metadata": {},
   "outputs": [
    {
     "name": "stdout",
     "output_type": "stream",
     "text": [
      "F1-Score:   {'Angry': 0.0625, 'Disgust': 0.012269938650306749, 'Fear': 0.008733624454148471, 'Happy': 0.5058626465661642, 'Sad': 0.14516129032258066, 'Surprise': 0.19574468085106383, 'Neutral': 0.03225806451612903}\n",
      "Accuracy:   0.246558197747184\n",
      "Precision:  {'Angry': 0.13333333333333333, 'Disgust': 0.006172839506172839, 'Fear': 0.0043859649122807015, 'Happy': 0.877906976744186, 'Sad': 0.47368421052631576, 'Surprise': 0.18699186991869918, 'Neutral': 0.01639344262295082}\n",
      "Recall:     {'Angry': 0.04081632653061224, 'Disgust': 1.0, 'Fear': 1.0, 'Happy': 0.3552941176470588, 'Sad': 0.08571428571428572, 'Surprise': 0.20535714285714285, 'Neutral': 1.0}\n"
     ]
    }
   ],
   "source": [
    "print(f\"F1-Score:   {dict( zip( l, f1_score(actual, predicted, average=None) ) )}\")\n",
    "print(f\"Accuracy:   {accuracy_score(actual, predicted)}\")\n",
    "print(f\"Precision:  {dict( zip( l, precision_score(actual, predicted, average=None) ) )}\")\n",
    "print(f\"Recall:     {dict( zip( l, recall_score(actual, predicted, average=None) ) )}\")"
   ]
  }
 ],
 "metadata": {
  "kernelspec": {
   "display_name": "project",
   "language": "python",
   "name": "python3"
  },
  "language_info": {
   "codemirror_mode": {
    "name": "ipython",
    "version": 3
   },
   "file_extension": ".py",
   "mimetype": "text/x-python",
   "name": "python",
   "nbconvert_exporter": "python",
   "pygments_lexer": "ipython3",
   "version": "3.10.13"
  }
 },
 "nbformat": 4,
 "nbformat_minor": 2
}
