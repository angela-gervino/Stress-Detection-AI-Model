{
 "cells": [
  {
   "cell_type": "code",
   "execution_count": null,
   "metadata": {},
   "outputs": [],
   "source": [
    "import tensorflow as tf\n",
    "import numpy as np\n",
    "from PIL import Image\n",
    "import pathlib\n",
    "import os\n",
    "import matplotlib.pyplot as plt\n",
    "import seaborn as sns "
   ]
  },
  {
   "cell_type": "code",
   "execution_count": 13,
   "metadata": {},
   "outputs": [],
   "source": [
    "def get_model(optimizer, loss, metrics):\n",
    "    input_ = tf.keras.layers.Input(shape=(224, 224, 1), name=\"INPUT\")\n",
    "    normalization = tf.keras.layers.Rescaling(1./255)(input_) # Standardize the data\n",
    "    conv1 = tf.keras.layers.Conv2D(filters=32, kernel_size=(7, 7), strides=1, activation=\"relu\", padding=\"same\", name=\"CONV1\")(normalization) \n",
    "    pool1 = tf.keras.layers.MaxPooling2D(pool_size=(2, 2), strides=2, name=\"POOL1\")(conv1) \n",
    "    conv2 = tf.keras.layers.Conv2D(filters=32, kernel_size=(7, 7), strides=1, activation=\"relu\", padding=\"same\", name=\"CONV2\")(pool1)\n",
    "    concat1 = tf.keras.layers.Concatenate()([pool1, conv2])\n",
    "    \n",
    "    pool2 = tf.keras.layers.MaxPooling2D(pool_size=(2, 2), strides=2, name=\"POOL2\")(concat1)\n",
    "    conv3 = tf.keras.layers.Conv2D(filters=64, kernel_size=(5, 5), strides=1, activation=\"relu\", padding=\"same\", name=\"CONV3\")(pool2)\n",
    "    concat2 = tf.keras.layers.Concatenate()([pool2, conv3])\n",
    "    \n",
    "    pool3 = tf.keras.layers.MaxPooling2D(pool_size=(2, 2), strides=2, name=\"POOL3\")(concat2)\n",
    "    conv4 = tf.keras.layers.Conv2D(filters=64, kernel_size=(5, 5), strides=1, activation=\"relu\", padding=\"same\", name=\"CONV4\")(pool3)\n",
    "    concat3 = tf.keras.layers.Concatenate()([pool3, conv4])\n",
    "    \n",
    "    pool4 = tf.keras.layers.MaxPooling2D(pool_size=(2, 2), strides=2, name=\"POOL4\")(concat3)\n",
    "    flatten = tf.keras.layers.Flatten()(pool4)\n",
    "    fc1 = tf.keras.layers.Dense(4096, activation='relu')(flatten)\n",
    "    dropout1 = tf.keras.layers.Dropout(0.5)(fc1)\n",
    "    fc2 = tf.keras.layers.Dense(2048, activation='relu')(dropout1)\n",
    "    dropout2 = tf.keras.layers.Dropout(0.5)(fc2)\n",
    "    \n",
    "    output = tf.keras.layers.Dense(7, activation='softmax')(dropout2)\n",
    "    \n",
    "    model = tf.keras.Model(\n",
    "        inputs=[input_],\n",
    "        outputs=[output]\n",
    "    )\n",
    "\n",
    "    model.compile(optimizer=optimizer, loss=loss, metrics=metrics)\n",
    "\n",
    "    return model"
   ]
  },
  {
   "cell_type": "markdown",
   "metadata": {},
   "source": [
    "Load in / prep the data"
   ]
  },
  {
   "cell_type": "code",
   "execution_count": 34,
   "metadata": {},
   "outputs": [],
   "source": [
    "train_dir = pathlib.Path(\"Train v3\").with_suffix('')\n",
    "test_dir = pathlib.Path(\"Test\").with_suffix('')"
   ]
  },
  {
   "cell_type": "code",
   "execution_count": null,
   "metadata": {},
   "outputs": [],
   "source": [
    "print(f\"Number of images for training/val: {len(list(train_dir.glob('*/*.jpg')))}\")\n",
    "print(f\"NUmber of images for testing: {len(list(test_dir.glob('*/*.jpg')))}\") "
   ]
  },
  {
   "cell_type": "code",
   "execution_count": null,
   "metadata": {},
   "outputs": [],
   "source": [
    "# Display an image\n",
    "i = list(train_dir.glob('Surprise/*'))\n",
    "Image.open(str(i[0]))"
   ]
  },
  {
   "cell_type": "code",
   "execution_count": 36,
   "metadata": {},
   "outputs": [
    {
     "name": "stdout",
     "output_type": "stream",
     "text": [
      "Number of samples in each emotion category in the Train/Val set\n",
      "Emotion:Angry, # Samples:2040\n",
      "Emotion:Disgust, # Samples:461\n",
      "Emotion:Fear, # Samples:2096\n",
      "Emotion:Happy, # Samples:3720\n",
      "Emotion:Neutral, # Samples:2168\n",
      "Emotion:Sad, # Samples:2304\n",
      "Emotion:Surprise, # Samples:1880\n"
     ]
    }
   ],
   "source": [
    "# Check how many samples fall into each emotion category\n",
    "print(\"Number of samples in each emotion category in the Train/Val set\")\n",
    "for e in [\"Angry\", \"Disgust\", \"Fear\", \"Happy\", \"Neutral\", \"Sad\", \"Surprise\"]:\n",
    "    print(f\"Emotion:{e}, # Samples:{len(list(train_dir.glob(f'{e}/*')))}\")"
   ]
  },
  {
   "cell_type": "code",
   "execution_count": null,
   "metadata": {},
   "outputs": [],
   "source": [
    "# Find duplicate files between train/val and test sets\n",
    "\n",
    "emotion = \"Happy\"\n",
    "\n",
    "d1 = pathlib.Path(f\"Train v2/{emotion}\").with_suffix('')\n",
    "d2 = pathlib.Path(f\"Test v2/{emotion}\").with_suffix('')\n",
    "\n",
    "l1 = list(d1.glob('*.jpg'))\n",
    "for i in range(len(l1)):\n",
    "    l1[i] = str(l1[i]).split('\\\\')[2]\n",
    "\n",
    "l2 = list(d2.glob('*.jpg'))\n",
    "\n",
    "for i in range(len(l2)):\n",
    "    l2[i] = str(l2[i]).split('\\\\')[2]\n",
    "\n",
    "l1 = set(l1)\n",
    "l2 = set(l2)\n",
    "\n",
    "duplicates = l1.intersection(l2)\n",
    "duplicates"
   ]
  },
  {
   "cell_type": "code",
   "execution_count": 58,
   "metadata": {},
   "outputs": [],
   "source": [
    "# Drop the duplicate files from the training set\n",
    "for file in duplicates:\n",
    "    os.remove(f'Train v2/{emotion}/{file}')"
   ]
  },
  {
   "cell_type": "code",
   "execution_count": 37,
   "metadata": {},
   "outputs": [
    {
     "name": "stdout",
     "output_type": "stream",
     "text": [
      "Found 14669 files belonging to 7 classes.\n",
      "Using 13203 files for training.\n",
      "Found 14669 files belonging to 7 classes.\n",
      "Using 1466 files for validation.\n",
      "Found 210 files belonging to 7 classes.\n"
     ]
    }
   ],
   "source": [
    "# Convert image folders to TF dataset\n",
    "\n",
    "im_size = (224, 224)\n",
    "val_split = 0.1\n",
    "batch_size = 32\n",
    "seed = 13\n",
    "mode = \"grayscale\"\n",
    "\n",
    "train_ds = tf.keras.utils.image_dataset_from_directory(\n",
    "    train_dir,\n",
    "    validation_split=val_split,\n",
    "    subset=\"training\",\n",
    "    seed=seed,\n",
    "    image_size=(im_size),\n",
    "    batch_size=batch_size,\n",
    "    color_mode=mode\n",
    ")\n",
    "\n",
    "val_ds = tf.keras.utils.image_dataset_from_directory(\n",
    "    train_dir,\n",
    "    validation_split=val_split,\n",
    "    subset=\"validation\",\n",
    "    seed=seed,\n",
    "    image_size=(im_size),\n",
    "    batch_size=batch_size,\n",
    "    color_mode=mode\n",
    ")\n",
    "\n",
    "test_ds = tf.keras.utils.image_dataset_from_directory(\n",
    "    test_dir,\n",
    "    image_size=im_size,\n",
    "    batch_size=batch_size,\n",
    "    color_mode=mode\n",
    ")"
   ]
  },
  {
   "cell_type": "markdown",
   "metadata": {},
   "source": [
    "Train Model"
   ]
  },
  {
   "cell_type": "code",
   "execution_count": 38,
   "metadata": {},
   "outputs": [],
   "source": [
    "model = get_model(optimizer=tf.keras.optimizers.Adam(), \n",
    "                  loss=tf.keras.losses.SparseCategoricalCrossentropy(), \n",
    "                  metrics=['accuracy']);"
   ]
  },
  {
   "cell_type": "code",
   "execution_count": 39,
   "metadata": {},
   "outputs": [
    {
     "name": "stdout",
     "output_type": "stream",
     "text": [
      "Epoch 1/10\n"
     ]
    },
    {
     "name": "stdout",
     "output_type": "stream",
     "text": [
      "413/413 [==============================] - 1493s 4s/step - loss: 1.9023 - accuracy: 0.2876 - val_loss: 1.6983 - val_accuracy: 0.3431\n",
      "Epoch 2/10\n",
      "413/413 [==============================] - 1488s 4s/step - loss: 1.6299 - accuracy: 0.3613 - val_loss: 1.5770 - val_accuracy: 0.3909\n",
      "Epoch 3/10\n",
      "413/413 [==============================] - 1467s 4s/step - loss: 1.4952 - accuracy: 0.4265 - val_loss: 1.5213 - val_accuracy: 0.4100\n",
      "Epoch 4/10\n",
      "413/413 [==============================] - 1494s 4s/step - loss: 1.3795 - accuracy: 0.4766 - val_loss: 1.4943 - val_accuracy: 0.4154\n",
      "Epoch 5/10\n",
      "413/413 [==============================] - 1484s 4s/step - loss: 1.2335 - accuracy: 0.5334 - val_loss: 1.4668 - val_accuracy: 0.4584\n",
      "Epoch 6/10\n",
      "413/413 [==============================] - 1521s 4s/step - loss: 1.0580 - accuracy: 0.6038 - val_loss: 1.4506 - val_accuracy: 0.4768\n",
      "Epoch 7/10\n",
      "413/413 [==============================] - 1506s 4s/step - loss: 0.8601 - accuracy: 0.6839 - val_loss: 1.5946 - val_accuracy: 0.4523\n",
      "Epoch 8/10\n",
      "413/413 [==============================] - 1454s 4s/step - loss: 0.7036 - accuracy: 0.7457 - val_loss: 1.6454 - val_accuracy: 0.4816\n",
      "Epoch 9/10\n",
      "413/413 [==============================] - 1449s 4s/step - loss: 0.5713 - accuracy: 0.7978 - val_loss: 1.8693 - val_accuracy: 0.4775\n",
      "Epoch 10/10\n",
      "413/413 [==============================] - 1442s 3s/step - loss: 0.4765 - accuracy: 0.8354 - val_loss: 1.9833 - val_accuracy: 0.4618\n"
     ]
    }
   ],
   "source": [
    "history = model.fit(\n",
    "    train_ds,\n",
    "    epochs=10,\n",
    "    validation_data=(val_ds)\n",
    ")"
   ]
  },
  {
   "cell_type": "code",
   "execution_count": 40,
   "metadata": {},
   "outputs": [
    {
     "data": {
      "image/png": "[encoded data removed]",
      "text/plain": [
       "<Figure size 640x480 with 1 Axes>"
      ]
     },
     "metadata": {},
     "output_type": "display_data"
    }
   ],
   "source": [
    "training_loss = history.history['loss']\n",
    "validation_loss = history.history['val_loss']\n",
    "\n",
    "epochs = range(1, len(training_loss) + 1)\n",
    "\n",
    "plt.plot(epochs, training_loss, 'r-')\n",
    "plt.plot(epochs, validation_loss, 'b-')\n",
    "plt.legend(['Training Loss', 'Validation Loss'])\n",
    "plt.xlabel('Epoch')\n",
    "plt.ylabel('Loss')\n",
    "plt.title('Epochs vs Loss')\n",
    "plt.show()"
   ]
  },
  {
   "cell_type": "code",
   "execution_count": 41,
   "metadata": {},
   "outputs": [
    {
     "data": {
      "image/png": "[encoded data removed]",
      "text/plain": [
       "<Figure size 640x480 with 1 Axes>"
      ]
     },
     "metadata": {},
     "output_type": "display_data"
    }
   ],
   "source": [
    "training_accuracy = history.history['accuracy']\n",
    "validation_accuracy = history.history['val_accuracy']\n",
    "\n",
    "plt.plot(epochs, training_accuracy, 'r-')\n",
    "plt.plot(epochs, validation_accuracy, 'b-')\n",
    "plt.legend(['Training Accuracy', 'Validation Accuracy'])\n",
    "plt.xlabel('Epoch')\n",
    "plt.ylabel('Accuracy')\n",
    "plt.title('Epochs vs Accuracy')\n",
    "plt.show()"
   ]
  },
  {
   "cell_type": "markdown",
   "metadata": {},
   "source": [
    "Make Predictions"
   ]
  },
  {
   "cell_type": "code",
   "execution_count": null,
   "metadata": {},
   "outputs": [],
   "source": [
    "predicted = []\n",
    "actual = []\n",
    "\n",
    "for images, labels in test_ds:\n",
    "    probabilities = model.predict(images)\n",
    "\n",
    "    for pred in probabilities:\n",
    "        predicted.append(np.argmax(pred))\n",
    "    \n",
    "    for l in labels:\n",
    "        actual.append(l)"
   ]
  },
  {
   "cell_type": "code",
   "execution_count": null,
   "metadata": {},
   "outputs": [],
   "source": [
    "expressions = {0:\"Angry\", 1:\"Disgust\", 2:\"Fear\", 3:\"Happy\", 4:\"Sad\", 5:\"Surprise\", 6:\"Neutral\"}\n",
    "\n",
    "for i in range(len(actual)):\n",
    "    print(f\"Actual={expressions[actual[i].numpy()]}, Predicted={expressions[predicted[i]]}\")"
   ]
  },
  {
   "cell_type": "markdown",
   "metadata": {},
   "source": [
    "Confusion Matrix"
   ]
  },
  {
   "cell_type": "code",
   "execution_count": 43,
   "metadata": {},
   "outputs": [],
   "source": [
    "array = tf.math.confusion_matrix(labels=actual, predictions=predicted)"
   ]
  },
  {
   "cell_type": "code",
   "execution_count": null,
   "metadata": {},
   "outputs": [],
   "source": [
    "plt.figure(figsize=(10,7))\n",
    "l = [\"Angry\", \"Disgust\", \"Fear\", \"Happy\", \"Sad\", \"Surprise\", \"Neutral\"]\n",
    "sns.heatmap(array, annot=True, cmap=sns.color_palette(\"Greens\"), xticklabels=l, yticklabels=l).set(xlabel=\"Predicted\", ylabel=\"Actual\")"
   ]
  },
  {
   "cell_type": "markdown",
   "metadata": {},
   "source": [
    "Model Metrics"
   ]
  },
  {
   "cell_type": "code",
   "execution_count": 25,
   "metadata": {},
   "outputs": [],
   "source": [
    "from sklearn.metrics import f1_score, accuracy_score, precision_score, recall_score"
   ]
  },
  {
   "cell_type": "code",
   "execution_count": null,
   "metadata": {},
   "outputs": [],
   "source": [
    "print(f\"F1-Score:   {dict( zip( l, f1_score(actual, predicted, average=None) ) )}\")\n",
    "print(f\"Accuracy:   {accuracy_score(actual, predicted)}\")\n",
    "print(f\"Precision:  {dict( zip( l, precision_score(actual, predicted, average=None) ) )}\")\n",
    "print(f\"Recall:     {dict( zip( l, recall_score(actual, predicted, average=None) ) )}\")"
   ]
  },
  {
   "cell_type": "markdown",
   "metadata": {},
   "source": [
    "Save a model"
   ]
  },
  {
   "cell_type": "code",
   "execution_count": 47,
   "metadata": {},
   "outputs": [],
   "source": [
    "model.save('Models/v4.keras')"
   ]
  },
  {
   "cell_type": "markdown",
   "metadata": {},
   "source": [
    "Load a model"
   ]
  },
  {
   "cell_type": "code",
   "execution_count": 31,
   "metadata": {},
   "outputs": [],
   "source": [
    "m = tf.keras.models.load_model('v2.keras')"
   ]
  }
 ],
 "metadata": {
  "kernelspec": {
   "display_name": "project",
   "language": "python",
   "name": "python3"
  },
  "language_info": {
   "codemirror_mode": {
    "name": "ipython",
    "version": 3
   },
   "file_extension": ".py",
   "mimetype": "text/x-python",
   "name": "python",
   "nbconvert_exporter": "python",
   "pygments_lexer": "ipython3",
   "version": "3.10.13"
  }
 },
 "nbformat": 4,
 "nbformat_minor": 2
}
