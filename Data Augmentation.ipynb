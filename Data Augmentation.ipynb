{
 "cells": [
  {
   "cell_type": "code",
   "execution_count": null,
   "metadata": {},
   "outputs": [],
   "source": [
    "from keras.preprocessing.image import ImageDataGenerator\n",
    "from tensorflow.keras.utils import img_to_array, load_img\n",
    "from sklearn.model_selection import train_test_split\n",
    "import os\n",
    "import matplotlib.pyplot as plt\n",
    "import matplotlib.image as mpimg\n",
    "import pandas as pd\n",
    "import numpy as np\n",
    "import glob\n",
    "from PIL import Image"
   ]
  },
  {
   "cell_type": "code",
   "execution_count": 2,
   "metadata": {},
   "outputs": [],
   "source": [
    "# Initialize the ImageDataGenerator class\n",
    "datagen = ImageDataGenerator(\n",
    "    rotation_range = 15,\n",
    "    #shear_range = 0.2,\n",
    "    zoom_range = 0.1,\n",
    "    horizontal_flip = True,\n",
    "    brightness_range = (0.5, 1.5)\n",
    ")"
   ]
  },
  {
   "cell_type": "markdown",
   "metadata": {},
   "source": [
    "(Option 1): Use images from a folder"
   ]
  },
  {
   "cell_type": "code",
   "execution_count": 4,
   "metadata": {},
   "outputs": [],
   "source": [
    "# Generate the augmented images and save to the specified folder (save_to_dir)\n",
    "# Assumes that the folder structure is a single folder that contains folders labelled for different emotions, each containing images. Examples:\n",
    "    # BaseFolder\\\\Happy\\\\*.jpg\n",
    "    # BaseFolder\\\\Surprise\\\\*.jpg\n",
    "\n",
    "file_paths = glob.glob(f\"Base Folder Name\\\\**\\\\*.jpg\") \n",
    "\n",
    "for image in file_paths:\n",
    "    emotion = image.split(\"\\\\\")[1]\n",
    "    im = load_img(image)\n",
    "    x = img_to_array(im)\n",
    "    x = x.reshape((1,) + x.shape)\n",
    "    i = 0\n",
    "    num_images = 20\n",
    "\n",
    "    for batch in datagen.flow(x, batch_size=1, save_to_dir=f'Save To Folder Name/{emotion}/', save_prefix='aug_img', save_format='jpg'):\n",
    "        i += 1\n",
    "        if i >= num_images:\n",
    "            break"
   ]
  },
  {
   "cell_type": "markdown",
   "metadata": {},
   "source": [
    "(Option 2): Use images stored as pixels in a CSV file"
   ]
  },
  {
   "cell_type": "code",
   "execution_count": null,
   "metadata": {},
   "outputs": [],
   "source": [
    "# Augmented images are stored as jpg files in the specified folder (save_to_dir), not as another CSV of pixels\n",
    "expressions = {0:\"Angry\", 1:\"Disgust\", 2:\"Fear\", 3:\"Happy\", 4:\"Sad\", 5:\"Surprise\", 6:\"Neutral\"}\n",
    "df = pd.read_csv(\"Images.csv\")\n",
    "\n",
    "for index, row in df.iterrows():\n",
    "    emotion = row[\"emotion\"]\n",
    "    x = np.fromstring(row[\"pixels\"], dtype=int, sep=\" \").reshape(48, 48, 1).astype(\"float32\")\n",
    "    x = x.reshape((1,) + x.shape)\n",
    "    i = 0\n",
    "    num_images = 5\n",
    "\n",
    "    for batch in datagen.flow(x, batch_size=1, save_to_dir=f'Save To Folder Name/{expressions[emotion]}/', save_prefix='aug_img', save_format='jpg'):\n",
    "        i += 1\n",
    "        if i >= num_images:\n",
    "            break"
   ]
  },
  {
   "cell_type": "markdown",
   "metadata": {},
   "source": [
    "Turn folder of images into an npy dataset"
   ]
  },
  {
   "cell_type": "code",
   "execution_count": 12,
   "metadata": {},
   "outputs": [],
   "source": [
    "emotions = [\"Happy\", \"Surprise\", \"Disgust\", \"Neutral\", \"Angry\", \"Fear\", \"Sad\"]\n",
    "expressions = {\"Angry\":0, \"Disgust\":1, \"Fear\":2, \"Happy\":3, \"Sad\":4, \"Surprise\":5, \"Neutral\":6}\n",
    "l = []\n",
    "shape=(224,224)\n",
    "\n",
    "# turn folders of images into a dataframe\n",
    "for emotion in emotions:\n",
    "    images = glob.glob(f\"Base Folder Name/{emotion}/*.jpg\")\n",
    "    for image in images:\n",
    "        img = Image.open(image).convert('L')\n",
    "        reshaped = np.array(img).reshape(shape[0]*shape[1])\n",
    "        reshaped_as_string = map(str, reshaped)\n",
    "        string = ' '.join(reshaped_as_string)\n",
    "        l.append([expressions[emotion], string])\n",
    "\n",
    "df = pd.DataFrame(l, columns=[\"emotion\", \"pixels\"])"
   ]
  },
  {
   "cell_type": "code",
   "execution_count": 13,
   "metadata": {},
   "outputs": [],
   "source": [
    "shape=(224,224)\n",
    "\n",
    "datapoints = df['pixels'].tolist()\n",
    "\n",
    "#getting features for training\n",
    "X = []\n",
    "for xseq in datapoints:\n",
    "    xx = [int(xp) for xp in xseq.split(' ')]\n",
    "    xx = np.asarray(xx).reshape(shape)\n",
    "    X.append(xx.astype('float32'))\n",
    "\n",
    "X = np.asarray(X)\n",
    "X = np.expand_dims(X, -1)\n",
    "\n",
    "#getting labels for training\n",
    "y = pd.get_dummies(df['emotion']).values\n",
    "\n",
    "np.save('fdataX', X)\n",
    "np.save('flabels', y)"
   ]
  },
  {
   "cell_type": "markdown",
   "metadata": {},
   "source": [
    "Combine npy datasets"
   ]
  },
  {
   "cell_type": "code",
   "execution_count": 15,
   "metadata": {},
   "outputs": [],
   "source": [
    "dataX1 = np.load('file1_fdataX.npy')\n",
    "dataY1 = np.load('file1_flabels.npy')\n",
    "\n",
    "dataX2 = np.load('file2_fdataX.npy')\n",
    "dataY2 = np.load('file2_flabels.npy')"
   ]
  },
  {
   "cell_type": "code",
   "execution_count": 16,
   "metadata": {},
   "outputs": [],
   "source": [
    "x_result = np.concatenate([dataX1, dataX2])\n",
    "y_result = np.concatenate([dataY1, dataY2])"
   ]
  },
  {
   "cell_type": "code",
   "execution_count": 12,
   "metadata": {},
   "outputs": [],
   "source": [
    "np.save('fileName_fdataX', x_result)\n",
    "np.save('fileName_flabels', y_result)"
   ]
  }
 ],
 "metadata": {
  "kernelspec": {
   "display_name": "project",
   "language": "python",
   "name": "python3"
  },
  "language_info": {
   "codemirror_mode": {
    "name": "ipython",
    "version": 3
   },
   "file_extension": ".py",
   "mimetype": "text/x-python",
   "name": "python",
   "nbconvert_exporter": "python",
   "pygments_lexer": "ipython3",
   "version": "3.10.13"
  }
 },
 "nbformat": 4,
 "nbformat_minor": 2
}
