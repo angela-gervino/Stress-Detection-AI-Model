{
 "cells": [
  {
   "cell_type": "code",
   "execution_count": null,
   "metadata": {},
   "outputs": [],
   "source": [
    "from keras.preprocessing.image import ImageDataGenerator\n",
    "from tensorflow.keras.utils import array_to_img, img_to_array, load_img\n",
    "import os\n",
    "import matplotlib.pyplot as plt\n",
    "import matplotlib.image as mpimg\n",
    "import pandas as pd"
   ]
  },
  {
   "cell_type": "code",
   "execution_count": 8,
   "metadata": {},
   "outputs": [],
   "source": [
    "# Returns a list of paths to all folders (videos) that meet the criteria specified by the input parameters\n",
    "def select_videos(intensity, emotion, gender=None, ageRange=None):\n",
    "  out = []\n",
    "  list_dirs = os.walk(f\"Emotions/{emotion}\")\n",
    "\n",
    "  for root, dirs, _ in list_dirs:\n",
    "    for d in dirs:\n",
    "      split_folder = d.split(\"_\")\n",
    "      if len(split_folder) != 5:\n",
    "        continue\n",
    "      if split_folder[4] != intensity:\n",
    "        continue\n",
    "      if gender is not None and split_folder[2] != gender:\n",
    "        continue\n",
    "      if ageRange is not None and ( int(split_folder[3]) > ageRange[1] or int(split_folder[3]) < ageRange[0] ):\n",
    "        continue\n",
    "        \n",
    "      out.append(os.path.join(root, d).replace(\"\\\\\", \"/\"))\n",
    "      \n",
    "  return out"
   ]
  },
  {
   "cell_type": "code",
   "execution_count": 9,
   "metadata": {},
   "outputs": [],
   "source": [
    "# Returns the path to the image for the last frame in the video\n",
    "# makes the assumption that the files are named frame_{frame_num} where frame_num starts at 0 and increases by 1\n",
    "# the last frame is assumed to be one of the more expressive frames in the video, as actors start out in a neutral state and progress to a more expressive state\n",
    "def last_frame(folder_path):\n",
    "    for _, _, files in os.walk(folder_path):\n",
    "        return f\"{folder_path}/frame_{str(len(files) - 1)}.jpg\""
   ]
  },
  {
   "cell_type": "code",
   "execution_count": 4,
   "metadata": {},
   "outputs": [],
   "source": [
    "# Returns a list of paths to all the files in the provided folder\n",
    "# This assumes that all files will be in the folder provided in folder_path, not in nested folders\n",
    "def get_images(folder_path):\n",
    "    for _, _, files in os.walk(folder_path):\n",
    "        return [f\"{folder_path}/{i}\" for i in files]"
   ]
  },
  {
   "cell_type": "code",
   "execution_count": null,
   "metadata": {},
   "outputs": [],
   "source": [
    "# Initialize the ImageDataGenerator class\n",
    "datagen = ImageDataGenerator(\n",
    "    rotation_range = 30,\n",
    "    #shear_range = 0.2,\n",
    "    zoom_range = 0.2,\n",
    "    horizontal_flip = True,\n",
    "    brightness_range = (0.75, 1.25)\n",
    ")"
   ]
  },
  {
   "cell_type": "code",
   "execution_count": 13,
   "metadata": {},
   "outputs": [],
   "source": [
    "# If using frames from videos, run this cell\n",
    "images = [] # the collection of images to augment\n",
    "\n",
    "for video in select_videos(intensity=\"HI\", emotion=\"Disgust\"): # alter this line to use only the desired video type\n",
    "    images.append(last_frame(video))"
   ]
  },
  {
   "cell_type": "code",
   "execution_count": 14,
   "metadata": {},
   "outputs": [],
   "source": [
    "# If using images from a folder, run this cell\n",
    "images = get_images(\"Train v2/Angry\")"
   ]
  },
  {
   "cell_type": "markdown",
   "metadata": {},
   "source": [
    "View an image"
   ]
  },
  {
   "cell_type": "code",
   "execution_count": null,
   "metadata": {},
   "outputs": [],
   "source": [
    "img = mpimg.imread(images[0])\n",
    "plt.imshow(img)"
   ]
  },
  {
   "cell_type": "markdown",
   "metadata": {},
   "source": [
    "For a single image, generate some augmented images"
   ]
  },
  {
   "cell_type": "code",
   "execution_count": 14,
   "metadata": {},
   "outputs": [],
   "source": [
    "img = load_img(images[0]) # specify the image to augment here\n",
    "img_as_arr = img_to_array(img)\n",
    "x = img_as_arr.reshape((1,) + img_as_arr.shape)"
   ]
  },
  {
   "cell_type": "code",
   "execution_count": 15,
   "metadata": {},
   "outputs": [],
   "source": [
    "i=0\n",
    "num_images = 3 # number of new images to generate\n",
    "for batch in datagen.flow(x, batch_size=1, save_to_dir='test', save_prefix='test_img', save_format='jpeg'):\n",
    "    i += 1\n",
    "    if i >= num_images:\n",
    "        break"
   ]
  },
  {
   "cell_type": "markdown",
   "metadata": {},
   "source": [
    "For a collection of images, generate augmented images"
   ]
  },
  {
   "cell_type": "code",
   "execution_count": 15,
   "metadata": {},
   "outputs": [],
   "source": [
    "for image in images:\n",
    "    im = load_img(image)\n",
    "    x = img_to_array(im)\n",
    "    x = x.reshape((1,) + x.shape)\n",
    "\n",
    "    i = 0\n",
    "    num_images = 2\n",
    "\n",
    "    for batch in datagen.flow(x, batch_size=1, save_to_dir='Test/Angry/', save_prefix='aug_img', save_format='jpeg'):\n",
    "        i += 1\n",
    "        if i >= num_images:\n",
    "            break"
   ]
  }
 ],
 "metadata": {
  "kernelspec": {
   "display_name": "project",
   "language": "python",
   "name": "python3"
  },
  "language_info": {
   "codemirror_mode": {
    "name": "ipython",
    "version": 3
   },
   "file_extension": ".py",
   "mimetype": "text/x-python",
   "name": "python",
   "nbconvert_exporter": "python",
   "pygments_lexer": "ipython3",
   "version": "3.10.13"
  }
 },
 "nbformat": 4,
 "nbformat_minor": 2
}
